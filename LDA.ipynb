{
 "cells": [
  {
   "cell_type": "code",
   "execution_count": 2,
   "id": "9d2c07b0-5953-48b5-9a7d-5c41bda54084",
   "metadata": {},
   "outputs": [
    {
     "name": "stderr",
     "output_type": "stream",
     "text": [
      "WARNING: Skipping pandas as it is not installed.\n"
     ]
    }
   ],
   "source": [
    "!pip uninstall pandas -y"
   ]
  },
  {
   "cell_type": "code",
   "execution_count": 8,
   "id": "33ff6d40-b758-434e-9e55-1f6af45bd39e",
   "metadata": {},
   "outputs": [
    {
     "name": "stdout",
     "output_type": "stream",
     "text": [
      "Requirement already satisfied: numpy in c:\\users\\alex\\.conda\\envs\\disertatie-primary\\lib\\site-packages (1.26.4)\n"
     ]
    }
   ],
   "source": [
    "!pip install numpy "
   ]
  },
  {
   "cell_type": "code",
   "execution_count": 9,
   "id": "01ea60a7-cd17-4705-bda5-7513009442a8",
   "metadata": {},
   "outputs": [
    {
     "name": "stdout",
     "output_type": "stream",
     "text": [
      "Collecting spacy\n",
      "  Using cached spacy-3.8.7-cp312-cp312-win_amd64.whl.metadata (28 kB)\n",
      "Requirement already satisfied: spacy-legacy<3.1.0,>=3.0.11 in c:\\users\\alex\\appdata\\roaming\\python\\python312\\site-packages (from spacy) (3.0.12)\n",
      "Requirement already satisfied: spacy-loggers<2.0.0,>=1.0.0 in c:\\users\\alex\\appdata\\roaming\\python\\python312\\site-packages (from spacy) (1.0.5)\n",
      "Requirement already satisfied: murmurhash<1.1.0,>=0.28.0 in c:\\users\\alex\\appdata\\roaming\\python\\python312\\site-packages (from spacy) (1.0.13)\n",
      "Requirement already satisfied: cymem<2.1.0,>=2.0.2 in c:\\users\\alex\\appdata\\roaming\\python\\python312\\site-packages (from spacy) (2.0.11)\n",
      "Requirement already satisfied: preshed<3.1.0,>=3.0.2 in c:\\users\\alex\\appdata\\roaming\\python\\python312\\site-packages (from spacy) (3.0.10)\n",
      "Requirement already satisfied: thinc<8.4.0,>=8.3.4 in c:\\users\\alex\\appdata\\roaming\\python\\python312\\site-packages (from spacy) (8.3.6)\n",
      "Requirement already satisfied: wasabi<1.2.0,>=0.9.1 in c:\\users\\alex\\appdata\\roaming\\python\\python312\\site-packages (from spacy) (1.1.3)\n",
      "Requirement already satisfied: srsly<3.0.0,>=2.4.3 in c:\\users\\alex\\appdata\\roaming\\python\\python312\\site-packages (from spacy) (2.5.1)\n",
      "Requirement already satisfied: catalogue<2.1.0,>=2.0.6 in c:\\users\\alex\\appdata\\roaming\\python\\python312\\site-packages (from spacy) (2.0.10)\n",
      "Requirement already satisfied: weasel<0.5.0,>=0.1.0 in c:\\users\\alex\\appdata\\roaming\\python\\python312\\site-packages (from spacy) (0.4.1)\n",
      "Requirement already satisfied: typer<1.0.0,>=0.3.0 in c:\\users\\alex\\.conda\\envs\\disertatie-primary\\lib\\site-packages (from spacy) (0.16.0)\n",
      "Requirement already satisfied: tqdm<5.0.0,>=4.38.0 in c:\\users\\alex\\.conda\\envs\\disertatie-primary\\lib\\site-packages (from spacy) (4.67.1)\n",
      "Requirement already satisfied: numpy>=1.19.0 in c:\\users\\alex\\.conda\\envs\\disertatie-primary\\lib\\site-packages (from spacy) (1.26.4)\n",
      "Requirement already satisfied: requests<3.0.0,>=2.13.0 in c:\\users\\alex\\.conda\\envs\\disertatie-primary\\lib\\site-packages (from spacy) (2.32.3)\n",
      "Requirement already satisfied: pydantic!=1.8,!=1.8.1,<3.0.0,>=1.7.4 in c:\\users\\alex\\.conda\\envs\\disertatie-primary\\lib\\site-packages (from spacy) (2.11.5)\n",
      "Requirement already satisfied: jinja2 in c:\\users\\alex\\.conda\\envs\\disertatie-primary\\lib\\site-packages (from spacy) (3.1.6)\n",
      "Requirement already satisfied: setuptools in c:\\users\\alex\\.conda\\envs\\disertatie-primary\\lib\\site-packages (from spacy) (78.1.1)\n",
      "Requirement already satisfied: packaging>=20.0 in c:\\users\\alex\\.conda\\envs\\disertatie-primary\\lib\\site-packages (from spacy) (24.2)\n",
      "Requirement already satisfied: langcodes<4.0.0,>=3.2.0 in c:\\users\\alex\\appdata\\roaming\\python\\python312\\site-packages (from spacy) (3.5.0)\n",
      "Requirement already satisfied: language-data>=1.2 in c:\\users\\alex\\appdata\\roaming\\python\\python312\\site-packages (from langcodes<4.0.0,>=3.2.0->spacy) (1.3.0)\n",
      "Requirement already satisfied: annotated-types>=0.6.0 in c:\\users\\alex\\.conda\\envs\\disertatie-primary\\lib\\site-packages (from pydantic!=1.8,!=1.8.1,<3.0.0,>=1.7.4->spacy) (0.7.0)\n",
      "Requirement already satisfied: pydantic-core==2.33.2 in c:\\users\\alex\\.conda\\envs\\disertatie-primary\\lib\\site-packages (from pydantic!=1.8,!=1.8.1,<3.0.0,>=1.7.4->spacy) (2.33.2)\n",
      "Requirement already satisfied: typing-extensions>=4.12.2 in c:\\users\\alex\\.conda\\envs\\disertatie-primary\\lib\\site-packages (from pydantic!=1.8,!=1.8.1,<3.0.0,>=1.7.4->spacy) (4.12.2)\n",
      "Requirement already satisfied: typing-inspection>=0.4.0 in c:\\users\\alex\\.conda\\envs\\disertatie-primary\\lib\\site-packages (from pydantic!=1.8,!=1.8.1,<3.0.0,>=1.7.4->spacy) (0.4.1)\n",
      "Requirement already satisfied: charset-normalizer<4,>=2 in c:\\users\\alex\\.conda\\envs\\disertatie-primary\\lib\\site-packages (from requests<3.0.0,>=2.13.0->spacy) (3.3.2)\n",
      "Requirement already satisfied: idna<4,>=2.5 in c:\\users\\alex\\.conda\\envs\\disertatie-primary\\lib\\site-packages (from requests<3.0.0,>=2.13.0->spacy) (3.7)\n",
      "Requirement already satisfied: urllib3<3,>=1.21.1 in c:\\users\\alex\\.conda\\envs\\disertatie-primary\\lib\\site-packages (from requests<3.0.0,>=2.13.0->spacy) (2.3.0)\n",
      "Requirement already satisfied: certifi>=2017.4.17 in c:\\users\\alex\\.conda\\envs\\disertatie-primary\\lib\\site-packages (from requests<3.0.0,>=2.13.0->spacy) (2025.4.26)\n",
      "Requirement already satisfied: blis<1.4.0,>=1.3.0 in c:\\users\\alex\\appdata\\roaming\\python\\python312\\site-packages (from thinc<8.4.0,>=8.3.4->spacy) (1.3.0)\n",
      "Requirement already satisfied: confection<1.0.0,>=0.0.1 in c:\\users\\alex\\appdata\\roaming\\python\\python312\\site-packages (from thinc<8.4.0,>=8.3.4->spacy) (0.1.5)\n",
      "Collecting numpy>=1.19.0 (from spacy)\n",
      "  Using cached numpy-2.3.0-cp312-cp312-win_amd64.whl.metadata (60 kB)\n",
      "Requirement already satisfied: colorama in c:\\users\\alex\\.conda\\envs\\disertatie-primary\\lib\\site-packages (from tqdm<5.0.0,>=4.38.0->spacy) (0.4.6)\n",
      "Requirement already satisfied: click>=8.0.0 in c:\\users\\alex\\.conda\\envs\\disertatie-primary\\lib\\site-packages (from typer<1.0.0,>=0.3.0->spacy) (8.2.1)\n",
      "Requirement already satisfied: shellingham>=1.3.0 in c:\\users\\alex\\.conda\\envs\\disertatie-primary\\lib\\site-packages (from typer<1.0.0,>=0.3.0->spacy) (1.5.4)\n",
      "Requirement already satisfied: rich>=10.11.0 in c:\\users\\alex\\.conda\\envs\\disertatie-primary\\lib\\site-packages (from typer<1.0.0,>=0.3.0->spacy) (14.0.0)\n",
      "Requirement already satisfied: cloudpathlib<1.0.0,>=0.7.0 in c:\\users\\alex\\appdata\\roaming\\python\\python312\\site-packages (from weasel<0.5.0,>=0.1.0->spacy) (0.21.1)\n",
      "Requirement already satisfied: smart-open<8.0.0,>=5.2.1 in c:\\users\\alex\\.conda\\envs\\disertatie-primary\\lib\\site-packages (from weasel<0.5.0,>=0.1.0->spacy) (7.1.0)\n",
      "Requirement already satisfied: wrapt in c:\\users\\alex\\.conda\\envs\\disertatie-primary\\lib\\site-packages (from smart-open<8.0.0,>=5.2.1->weasel<0.5.0,>=0.1.0->spacy) (1.17.2)\n",
      "Requirement already satisfied: marisa-trie>=1.1.0 in c:\\users\\alex\\appdata\\roaming\\python\\python312\\site-packages (from language-data>=1.2->langcodes<4.0.0,>=3.2.0->spacy) (1.2.1)\n",
      "Requirement already satisfied: markdown-it-py>=2.2.0 in c:\\users\\alex\\.conda\\envs\\disertatie-primary\\lib\\site-packages (from rich>=10.11.0->typer<1.0.0,>=0.3.0->spacy) (3.0.0)\n",
      "Requirement already satisfied: pygments<3.0.0,>=2.13.0 in c:\\users\\alex\\.conda\\envs\\disertatie-primary\\lib\\site-packages (from rich>=10.11.0->typer<1.0.0,>=0.3.0->spacy) (2.19.1)\n",
      "Requirement already satisfied: mdurl~=0.1 in c:\\users\\alex\\.conda\\envs\\disertatie-primary\\lib\\site-packages (from markdown-it-py>=2.2.0->rich>=10.11.0->typer<1.0.0,>=0.3.0->spacy) (0.1.2)\n",
      "Requirement already satisfied: MarkupSafe>=2.0 in c:\\users\\alex\\.conda\\envs\\disertatie-primary\\lib\\site-packages (from jinja2->spacy) (3.0.2)\n",
      "Using cached spacy-3.8.7-cp312-cp312-win_amd64.whl (13.9 MB)\n",
      "Using cached numpy-2.3.0-cp312-cp312-win_amd64.whl (12.7 MB)\n",
      "Installing collected packages: numpy, spacy\n",
      "\n",
      "  Attempting uninstall: numpy\n",
      "\n",
      "    Found existing installation: numpy 1.26.4\n",
      "\n",
      "   ---------------------------------------- 0/2 [numpy]\n",
      "    Uninstalling numpy-1.26.4:\n",
      "   ---------------------------------------- 0/2 [numpy]\n",
      "   ---------------------------------------- 0/2 [numpy]\n",
      "   ---------------------------------------- 0/2 [numpy]\n",
      "   ---------------------------------------- 0/2 [numpy]\n",
      "      Successfully uninstalled numpy-1.26.4\n",
      "   ---------------------------------------- 0/2 [numpy]\n",
      "   ---------------------------------------- 0/2 [numpy]\n",
      "   ---------------------------------------- 0/2 [numpy]\n",
      "   ---------------------------------------- 0/2 [numpy]\n",
      "   ---------------------------------------- 0/2 [numpy]\n",
      "   ---------------------------------------- 0/2 [numpy]\n",
      "   ---------------------------------------- 0/2 [numpy]\n",
      "   ---------------------------------------- 0/2 [numpy]\n",
      "   ---------------------------------------- 0/2 [numpy]\n",
      "   ---------------------------------------- 0/2 [numpy]\n",
      "   ---------------------------------------- 0/2 [numpy]\n",
      "   ---------------------------------------- 0/2 [numpy]\n",
      "   ---------------------------------------- 0/2 [numpy]\n",
      "   ---------------------------------------- 0/2 [numpy]\n",
      "   ---------------------------------------- 0/2 [numpy]\n",
      "   ---------------------------------------- 0/2 [numpy]\n",
      "   ---------------------------------------- 0/2 [numpy]\n",
      "   ---------------------------------------- 0/2 [numpy]\n",
      "   ---------------------------------------- 0/2 [numpy]\n",
      "   ---------------------------------------- 0/2 [numpy]\n",
      "   ---------------------------------------- 0/2 [numpy]\n",
      "   ---------------------------------------- 0/2 [numpy]\n",
      "   ---------------------------------------- 0/2 [numpy]\n",
      "   ---------------------------------------- 0/2 [numpy]\n",
      "   ---------------------------------------- 0/2 [numpy]\n",
      "   ---------------------------------------- 0/2 [numpy]\n",
      "   ---------------------------------------- 0/2 [numpy]\n",
      "   ---------------------------------------- 0/2 [numpy]\n",
      "   ---------------------------------------- 0/2 [numpy]\n",
      "   ---------------------------------------- 0/2 [numpy]\n",
      "   ---------------------------------------- 0/2 [numpy]\n",
      "   ---------------------------------------- 0/2 [numpy]\n",
      "   ---------------------------------------- 0/2 [numpy]\n",
      "   ---------------------------------------- 0/2 [numpy]\n",
      "   ---------------------------------------- 0/2 [numpy]\n",
      "   ---------------------------------------- 0/2 [numpy]\n",
      "   ---------------------------------------- 0/2 [numpy]\n",
      "   ---------------------------------------- 0/2 [numpy]\n",
      "   ---------------------------------------- 0/2 [numpy]\n",
      "   ---------------------------------------- 0/2 [numpy]\n",
      "   ---------------------------------------- 0/2 [numpy]\n",
      "   ---------------------------------------- 0/2 [numpy]\n",
      "   ---------------------------------------- 0/2 [numpy]\n",
      "   ---------------------------------------- 0/2 [numpy]\n",
      "   ---------------------------------------- 0/2 [numpy]\n",
      "   ---------------------------------------- 0/2 [numpy]\n",
      "   ---------------------------------------- 0/2 [numpy]\n",
      "   ---------------------------------------- 0/2 [numpy]\n",
      "   ---------------------------------------- 0/2 [numpy]\n",
      "   ---------------------------------------- 0/2 [numpy]\n",
      "   ---------------------------------------- 0/2 [numpy]\n",
      "   ---------------------------------------- 0/2 [numpy]\n",
      "   ---------------------------------------- 0/2 [numpy]\n",
      "   ---------------------------------------- 0/2 [numpy]\n",
      "   ---------------------------------------- 0/2 [numpy]\n",
      "   ---------------------------------------- 0/2 [numpy]\n",
      "   ---------------------------------------- 0/2 [numpy]\n",
      "   ---------------------------------------- 0/2 [numpy]\n",
      "   ---------------------------------------- 0/2 [numpy]\n",
      "   ---------------------------------------- 0/2 [numpy]\n",
      "   ---------------------------------------- 0/2 [numpy]\n",
      "   ---------------------------------------- 0/2 [numpy]\n",
      "   ---------------------------------------- 0/2 [numpy]\n",
      "   ---------------------------------------- 0/2 [numpy]\n",
      "   ---------------------------------------- 0/2 [numpy]\n",
      "   ---------------------------------------- 0/2 [numpy]\n",
      "   ---------------------------------------- 0/2 [numpy]\n",
      "   ---------------------------------------- 0/2 [numpy]\n",
      "   -------------------- ------------------- 1/2 [spacy]\n",
      "   -------------------- ------------------- 1/2 [spacy]\n",
      "   -------------------- ------------------- 1/2 [spacy]\n",
      "   -------------------- ------------------- 1/2 [spacy]\n",
      "   -------------------- ------------------- 1/2 [spacy]\n",
      "   -------------------- ------------------- 1/2 [spacy]\n",
      "   -------------------- ------------------- 1/2 [spacy]\n",
      "   -------------------- ------------------- 1/2 [spacy]\n",
      "   -------------------- ------------------- 1/2 [spacy]\n",
      "   -------------------- ------------------- 1/2 [spacy]\n",
      "   -------------------- ------------------- 1/2 [spacy]\n",
      "   -------------------- ------------------- 1/2 [spacy]\n",
      "   -------------------- ------------------- 1/2 [spacy]\n",
      "   -------------------- ------------------- 1/2 [spacy]\n",
      "   -------------------- ------------------- 1/2 [spacy]\n",
      "   -------------------- ------------------- 1/2 [spacy]\n",
      "   -------------------- ------------------- 1/2 [spacy]\n",
      "   -------------------- ------------------- 1/2 [spacy]\n",
      "   -------------------- ------------------- 1/2 [spacy]\n",
      "   -------------------- ------------------- 1/2 [spacy]\n",
      "   -------------------- ------------------- 1/2 [spacy]\n",
      "   -------------------- ------------------- 1/2 [spacy]\n",
      "   -------------------- ------------------- 1/2 [spacy]\n",
      "   -------------------- ------------------- 1/2 [spacy]\n",
      "   -------------------- ------------------- 1/2 [spacy]\n",
      "   -------------------- ------------------- 1/2 [spacy]\n",
      "   -------------------- ------------------- 1/2 [spacy]\n",
      "   -------------------- ------------------- 1/2 [spacy]\n",
      "   ---------------------------------------- 2/2 [spacy]\n",
      "\n",
      "Successfully installed numpy-2.3.0 spacy-3.8.7\n"
     ]
    },
    {
     "name": "stderr",
     "output_type": "stream",
     "text": [
      "  WARNING: Failed to remove contents in a temporary directory 'C:\\Users\\Alex\\.conda\\envs\\disertatie-primary\\Lib\\site-packages\\~umpy.libs'.\n",
      "  You can safely remove it manually.\n",
      "  WARNING: Failed to remove contents in a temporary directory 'C:\\Users\\Alex\\.conda\\envs\\disertatie-primary\\Lib\\site-packages\\~umpy'.\n",
      "  You can safely remove it manually.\n",
      "ERROR: pip's dependency resolver does not currently take into account all the packages that are installed. This behaviour is the source of the following dependency conflicts.\n",
      "gensim 4.3.3 requires numpy<2.0,>=1.18.5, but you have numpy 2.3.0 which is incompatible.\n",
      "scipy 1.13.1 requires numpy<2.3,>=1.22.4, but you have numpy 2.3.0 which is incompatible.\n"
     ]
    }
   ],
   "source": [
    "!pip install spacy"
   ]
  },
  {
   "cell_type": "code",
   "execution_count": 10,
   "id": "0fae6045-e54d-4d18-a877-9be5e41b1b7b",
   "metadata": {},
   "outputs": [
    {
     "name": "stdout",
     "output_type": "stream",
     "text": [
      "Collecting nltk\n",
      "  Using cached nltk-3.9.1-py3-none-any.whl.metadata (2.9 kB)\n",
      "Requirement already satisfied: click in c:\\users\\alex\\.conda\\envs\\disertatie-primary\\lib\\site-packages (from nltk) (8.2.1)\n",
      "Requirement already satisfied: joblib in c:\\users\\alex\\.conda\\envs\\disertatie-primary\\lib\\site-packages (from nltk) (1.5.1)\n",
      "Requirement already satisfied: regex>=2021.8.3 in c:\\users\\alex\\.conda\\envs\\disertatie-primary\\lib\\site-packages (from nltk) (2024.11.6)\n",
      "Requirement already satisfied: tqdm in c:\\users\\alex\\.conda\\envs\\disertatie-primary\\lib\\site-packages (from nltk) (4.67.1)\n",
      "Requirement already satisfied: colorama in c:\\users\\alex\\.conda\\envs\\disertatie-primary\\lib\\site-packages (from click->nltk) (0.4.6)\n",
      "Using cached nltk-3.9.1-py3-none-any.whl (1.5 MB)\n",
      "Installing collected packages: nltk\n",
      "Successfully installed nltk-3.9.1\n"
     ]
    }
   ],
   "source": [
    "!pip install nltk "
   ]
  },
  {
   "cell_type": "code",
   "execution_count": 11,
   "id": "3cce71bc-0397-4a92-8c58-8eaf071e9a95",
   "metadata": {},
   "outputs": [
    {
     "name": "stdout",
     "output_type": "stream",
     "text": [
      "Collecting matplotlib\n",
      "  Using cached matplotlib-3.10.3-cp312-cp312-win_amd64.whl.metadata (11 kB)\n",
      "Requirement already satisfied: contourpy>=1.0.1 in c:\\users\\alex\\.conda\\envs\\disertatie-primary\\lib\\site-packages (from matplotlib) (1.3.2)\n",
      "Requirement already satisfied: cycler>=0.10 in c:\\users\\alex\\.conda\\envs\\disertatie-primary\\lib\\site-packages (from matplotlib) (0.12.1)\n",
      "Requirement already satisfied: fonttools>=4.22.0 in c:\\users\\alex\\.conda\\envs\\disertatie-primary\\lib\\site-packages (from matplotlib) (4.58.1)\n",
      "Requirement already satisfied: kiwisolver>=1.3.1 in c:\\users\\alex\\.conda\\envs\\disertatie-primary\\lib\\site-packages (from matplotlib) (1.4.8)\n",
      "Requirement already satisfied: numpy>=1.23 in c:\\users\\alex\\.conda\\envs\\disertatie-primary\\lib\\site-packages (from matplotlib) (2.3.0)\n",
      "Requirement already satisfied: packaging>=20.0 in c:\\users\\alex\\.conda\\envs\\disertatie-primary\\lib\\site-packages (from matplotlib) (24.2)\n",
      "Requirement already satisfied: pillow>=8 in c:\\users\\alex\\.conda\\envs\\disertatie-primary\\lib\\site-packages (from matplotlib) (11.2.1)\n",
      "Requirement already satisfied: pyparsing>=2.3.1 in c:\\users\\alex\\.conda\\envs\\disertatie-primary\\lib\\site-packages (from matplotlib) (3.2.3)\n",
      "Requirement already satisfied: python-dateutil>=2.7 in c:\\users\\alex\\.conda\\envs\\disertatie-primary\\lib\\site-packages (from matplotlib) (2.9.0.post0)\n",
      "Requirement already satisfied: six>=1.5 in c:\\users\\alex\\.conda\\envs\\disertatie-primary\\lib\\site-packages (from python-dateutil>=2.7->matplotlib) (1.17.0)\n",
      "Using cached matplotlib-3.10.3-cp312-cp312-win_amd64.whl (8.1 MB)\n",
      "Installing collected packages: matplotlib\n",
      "Successfully installed matplotlib-3.10.3\n"
     ]
    }
   ],
   "source": [
    "!pip install matplotlib "
   ]
  },
  {
   "cell_type": "code",
   "execution_count": 6,
   "id": "abca0d74-95d0-415f-b985-178ec4208305",
   "metadata": {},
   "outputs": [
    {
     "name": "stdout",
     "output_type": "stream",
     "text": [
      "Requirement already satisfied: pyLDAvis in c:\\users\\alex\\.conda\\envs\\disertatie-primary\\lib\\site-packages (3.4.0)\n",
      "Requirement already satisfied: numpy>=1.22.0 in c:\\users\\alex\\.conda\\envs\\disertatie-primary\\lib\\site-packages (from pyLDAvis) (1.26.4)\n",
      "Requirement already satisfied: scipy in c:\\users\\alex\\.conda\\envs\\disertatie-primary\\lib\\site-packages (from pyLDAvis) (1.13.1)\n",
      "Requirement already satisfied: pandas>=1.3.4 in c:\\users\\alex\\.conda\\envs\\disertatie-primary\\lib\\site-packages (from pyLDAvis) (2.3.0)\n",
      "Requirement already satisfied: joblib>=1.2.0 in c:\\users\\alex\\.conda\\envs\\disertatie-primary\\lib\\site-packages (from pyLDAvis) (1.5.1)\n",
      "Requirement already satisfied: jinja2 in c:\\users\\alex\\.conda\\envs\\disertatie-primary\\lib\\site-packages (from pyLDAvis) (3.1.6)\n",
      "Requirement already satisfied: numexpr in c:\\users\\alex\\.conda\\envs\\disertatie-primary\\lib\\site-packages (from pyLDAvis) (2.11.0)\n",
      "Requirement already satisfied: funcy in c:\\users\\alex\\.conda\\envs\\disertatie-primary\\lib\\site-packages (from pyLDAvis) (2.0)\n",
      "Requirement already satisfied: scikit-learn>=1.0.0 in c:\\users\\alex\\.conda\\envs\\disertatie-primary\\lib\\site-packages (from pyLDAvis) (1.6.1)\n",
      "Requirement already satisfied: gensim in c:\\users\\alex\\.conda\\envs\\disertatie-primary\\lib\\site-packages (from pyLDAvis) (4.3.3)\n",
      "Requirement already satisfied: setuptools in c:\\users\\alex\\.conda\\envs\\disertatie-primary\\lib\\site-packages (from pyLDAvis) (78.1.1)\n",
      "Requirement already satisfied: python-dateutil>=2.8.2 in c:\\users\\alex\\.conda\\envs\\disertatie-primary\\lib\\site-packages (from pandas>=1.3.4->pyLDAvis) (2.9.0.post0)\n",
      "Requirement already satisfied: pytz>=2020.1 in c:\\users\\alex\\.conda\\envs\\disertatie-primary\\lib\\site-packages (from pandas>=1.3.4->pyLDAvis) (2025.2)\n",
      "Requirement already satisfied: tzdata>=2022.7 in c:\\users\\alex\\.conda\\envs\\disertatie-primary\\lib\\site-packages (from pandas>=1.3.4->pyLDAvis) (2025.2)\n",
      "Requirement already satisfied: six>=1.5 in c:\\users\\alex\\.conda\\envs\\disertatie-primary\\lib\\site-packages (from python-dateutil>=2.8.2->pandas>=1.3.4->pyLDAvis) (1.17.0)\n",
      "Requirement already satisfied: threadpoolctl>=3.1.0 in c:\\users\\alex\\.conda\\envs\\disertatie-primary\\lib\\site-packages (from scikit-learn>=1.0.0->pyLDAvis) (3.6.0)\n",
      "Requirement already satisfied: smart-open>=1.8.1 in c:\\users\\alex\\.conda\\envs\\disertatie-primary\\lib\\site-packages (from gensim->pyLDAvis) (7.1.0)\n",
      "Requirement already satisfied: wrapt in c:\\users\\alex\\.conda\\envs\\disertatie-primary\\lib\\site-packages (from smart-open>=1.8.1->gensim->pyLDAvis) (1.17.2)\n",
      "Requirement already satisfied: MarkupSafe>=2.0 in c:\\users\\alex\\.conda\\envs\\disertatie-primary\\lib\\site-packages (from jinja2->pyLDAvis) (3.0.2)\n"
     ]
    }
   ],
   "source": [
    "!pip install pyLDAvis"
   ]
  },
  {
   "cell_type": "code",
   "execution_count": 2,
   "id": "33dbc21d-08e3-4106-bebf-ec47bdd41a15",
   "metadata": {},
   "outputs": [
    {
     "name": "stderr",
     "output_type": "stream",
     "text": [
      "WARNING: Skipping pyLDAvis as it is not installed.\n"
     ]
    },
    {
     "name": "stdout",
     "output_type": "stream",
     "text": [
      "Collecting pyLDAvis==3.4.0\n",
      "  Downloading pyLDAvis-3.4.0-py3-none-any.whl.metadata (4.2 kB)\n",
      "Requirement already satisfied: numpy>=1.22.0 in c:\\users\\alex\\.conda\\envs\\disertatie-primary\\lib\\site-packages (from pyLDAvis==3.4.0) (1.26.4)\n",
      "Requirement already satisfied: scipy in c:\\users\\alex\\.conda\\envs\\disertatie-primary\\lib\\site-packages (from pyLDAvis==3.4.0) (1.13.1)\n",
      "Requirement already satisfied: pandas>=1.3.4 in c:\\users\\alex\\.conda\\envs\\disertatie-primary\\lib\\site-packages (from pyLDAvis==3.4.0) (2.3.0)\n",
      "Requirement already satisfied: joblib>=1.2.0 in c:\\users\\alex\\.conda\\envs\\disertatie-primary\\lib\\site-packages (from pyLDAvis==3.4.0) (1.5.1)\n",
      "Requirement already satisfied: jinja2 in c:\\users\\alex\\.conda\\envs\\disertatie-primary\\lib\\site-packages (from pyLDAvis==3.4.0) (3.1.6)\n",
      "Requirement already satisfied: numexpr in c:\\users\\alex\\.conda\\envs\\disertatie-primary\\lib\\site-packages (from pyLDAvis==3.4.0) (2.11.0)\n",
      "Requirement already satisfied: funcy in c:\\users\\alex\\.conda\\envs\\disertatie-primary\\lib\\site-packages (from pyLDAvis==3.4.0) (2.0)\n",
      "Requirement already satisfied: scikit-learn>=1.0.0 in c:\\users\\alex\\.conda\\envs\\disertatie-primary\\lib\\site-packages (from pyLDAvis==3.4.0) (1.6.1)\n",
      "Requirement already satisfied: gensim in c:\\users\\alex\\.conda\\envs\\disertatie-primary\\lib\\site-packages (from pyLDAvis==3.4.0) (4.3.3)\n",
      "Requirement already satisfied: setuptools in c:\\users\\alex\\.conda\\envs\\disertatie-primary\\lib\\site-packages (from pyLDAvis==3.4.0) (78.1.1)\n",
      "Requirement already satisfied: python-dateutil>=2.8.2 in c:\\users\\alex\\.conda\\envs\\disertatie-primary\\lib\\site-packages (from pandas>=1.3.4->pyLDAvis==3.4.0) (2.9.0.post0)\n",
      "Requirement already satisfied: pytz>=2020.1 in c:\\users\\alex\\.conda\\envs\\disertatie-primary\\lib\\site-packages (from pandas>=1.3.4->pyLDAvis==3.4.0) (2025.2)\n",
      "Requirement already satisfied: tzdata>=2022.7 in c:\\users\\alex\\.conda\\envs\\disertatie-primary\\lib\\site-packages (from pandas>=1.3.4->pyLDAvis==3.4.0) (2025.2)\n",
      "Requirement already satisfied: six>=1.5 in c:\\users\\alex\\.conda\\envs\\disertatie-primary\\lib\\site-packages (from python-dateutil>=2.8.2->pandas>=1.3.4->pyLDAvis==3.4.0) (1.17.0)\n",
      "Requirement already satisfied: threadpoolctl>=3.1.0 in c:\\users\\alex\\.conda\\envs\\disertatie-primary\\lib\\site-packages (from scikit-learn>=1.0.0->pyLDAvis==3.4.0) (3.6.0)\n",
      "Requirement already satisfied: smart-open>=1.8.1 in c:\\users\\alex\\.conda\\envs\\disertatie-primary\\lib\\site-packages (from gensim->pyLDAvis==3.4.0) (7.1.0)\n",
      "Requirement already satisfied: wrapt in c:\\users\\alex\\.conda\\envs\\disertatie-primary\\lib\\site-packages (from smart-open>=1.8.1->gensim->pyLDAvis==3.4.0) (1.17.2)\n",
      "Requirement already satisfied: MarkupSafe>=2.0 in c:\\users\\alex\\.conda\\envs\\disertatie-primary\\lib\\site-packages (from jinja2->pyLDAvis==3.4.0) (3.0.2)\n",
      "Downloading pyLDAvis-3.4.0-py3-none-any.whl (2.6 MB)\n",
      "   ---------------------------------------- 0.0/2.6 MB ? eta -:--:--\n",
      "   ------------ --------------------------- 0.8/2.6 MB 5.6 MB/s eta 0:00:01\n",
      "   ---------------------------------------- 2.6/2.6 MB 13.6 MB/s eta 0:00:00\n",
      "Installing collected packages: pyLDAvis\n",
      "Successfully installed pyLDAvis-3.4.0\n"
     ]
    }
   ],
   "source": [
    "!pip uninstall pyLDAvis -y\n",
    "!pip install --no-cache-dir pyLDAvis==3.4.0"
   ]
  },
  {
   "cell_type": "code",
   "execution_count": null,
   "id": "81fb07aa-c736-4dfd-bee1-d15abdac0ac9",
   "metadata": {},
   "outputs": [
    {
     "name": "stderr",
     "output_type": "stream",
     "text": [
      "WARNING: Skipping gensim as it is not installed.\n"
     ]
    },
    {
     "name": "stdout",
     "output_type": "stream",
     "text": [
      "Requirement already satisfied: pip in c:\\users\\alex\\.conda\\envs\\disertatie-primary\\lib\\site-packages (25.1)\n",
      "Collecting pip\n",
      "  Downloading pip-25.1.1-py3-none-any.whl.metadata (3.6 kB)\n",
      "Requirement already satisfied: setuptools in c:\\users\\alex\\.conda\\envs\\disertatie-primary\\lib\\site-packages (78.1.1)\n",
      "Collecting setuptools\n",
      "  Using cached setuptools-80.9.0-py3-none-any.whl.metadata (6.6 kB)\n",
      "Requirement already satisfied: wheel in c:\\users\\alex\\.conda\\envs\\disertatie-primary\\lib\\site-packages (0.45.1)\n",
      "Downloading pip-25.1.1-py3-none-any.whl (1.8 MB)\n",
      "   ---------------------------------------- 0.0/1.8 MB ? eta -:--:--\n",
      "   ---------------------------------- ----- 1.6/1.8 MB 13.9 MB/s eta 0:00:01\n",
      "   ---------------------------------------- 1.8/1.8 MB 12.5 MB/s eta 0:00:00\n",
      "Using cached setuptools-80.9.0-py3-none-any.whl (1.2 MB)\n"
     ]
    },
    {
     "name": "stderr",
     "output_type": "stream",
     "text": [
      "ERROR: To modify pip, please run the following command:\n",
      "C:\\Users\\Alex\\.conda\\envs\\disertatie-primary\\python.exe -m pip install --upgrade pip setuptools wheel\n"
     ]
    },
    {
     "name": "stdout",
     "output_type": "stream",
     "text": [
      "Collecting gensim\n",
      "  Using cached gensim-4.3.3-cp312-cp312-win_amd64.whl.metadata (8.2 kB)\n",
      "Collecting numpy<2.0,>=1.18.5 (from gensim)\n",
      "  Using cached numpy-1.26.4-cp312-cp312-win_amd64.whl.metadata (61 kB)\n",
      "Requirement already satisfied: scipy<1.14.0,>=1.7.0 in c:\\users\\alex\\.conda\\envs\\disertatie-primary\\lib\\site-packages (from gensim) (1.13.1)\n",
      "Requirement already satisfied: smart-open>=1.8.1 in c:\\users\\alex\\.conda\\envs\\disertatie-primary\\lib\\site-packages (from gensim) (7.1.0)\n",
      "Requirement already satisfied: wrapt in c:\\users\\alex\\.conda\\envs\\disertatie-primary\\lib\\site-packages (from smart-open>=1.8.1->gensim) (1.17.2)\n",
      "Using cached gensim-4.3.3-cp312-cp312-win_amd64.whl (24.0 MB)\n",
      "Using cached numpy-1.26.4-cp312-cp312-win_amd64.whl (15.5 MB)\n",
      "Installing collected packages: numpy, gensim\n",
      "\n",
      "   ---------------------------------------- 0/2 [numpy]\n",
      "   ---------------------------------------- 0/2 [numpy]\n",
      "   ---------------------------------------- 0/2 [numpy]\n",
      "   ---------------------------------------- 0/2 [numpy]\n",
      "   ---------------------------------------- 0/2 [numpy]\n",
      "   ---------------------------------------- 0/2 [numpy]\n",
      "   ---------------------------------------- 0/2 [numpy]\n",
      "   ---------------------------------------- 0/2 [numpy]\n",
      "   ---------------------------------------- 0/2 [numpy]\n",
      "   ---------------------------------------- 0/2 [numpy]\n",
      "   ---------------------------------------- 0/2 [numpy]\n",
      "   ---------------------------------------- 0/2 [numpy]\n",
      "   ---------------------------------------- 0/2 [numpy]\n",
      "   ---------------------------------------- 0/2 [numpy]\n",
      "   ---------------------------------------- 0/2 [numpy]\n",
      "   ---------------------------------------- 0/2 [numpy]\n",
      "   ---------------------------------------- 0/2 [numpy]\n",
      "   ---------------------------------------- 0/2 [numpy]\n",
      "   ---------------------------------------- 0/2 [numpy]\n",
      "   ---------------------------------------- 0/2 [numpy]\n",
      "   ---------------------------------------- 0/2 [numpy]\n",
      "   ---------------------------------------- 0/2 [numpy]\n",
      "   ---------------------------------------- 0/2 [numpy]\n",
      "   -------------------- ------------------- 1/2 [gensim]\n",
      "   -------------------- ------------------- 1/2 [gensim]\n",
      "   -------------------- ------------------- 1/2 [gensim]\n",
      "   -------------------- ------------------- 1/2 [gensim]\n",
      "   -------------------- ------------------- 1/2 [gensim]\n",
      "   -------------------- ------------------- 1/2 [gensim]\n",
      "   -------------------- ------------------- 1/2 [gensim]\n",
      "   ---------------------------------------- 2/2 [gensim]\n",
      "\n",
      "Successfully installed gensim-4.3.3 numpy-1.26.4\n"
     ]
    },
    {
     "name": "stderr",
     "output_type": "stream",
     "text": [
      "ERROR: pip's dependency resolver does not currently take into account all the packages that are installed. This behaviour is the source of the following dependency conflicts.\n",
      "datasets 3.6.0 requires pandas, which is not installed.\n",
      "thinc 8.3.6 requires numpy<3.0.0,>=2.0.0, but you have numpy 1.26.4 which is incompatible.\n"
     ]
    }
   ],
   "source": [
    "!pip uninstall -y gensim\n",
    "!pip install --upgrade pip setuptools wheel\n",
    "!pip install gensim"
   ]
  },
  {
   "cell_type": "code",
   "execution_count": 4,
   "id": "68231ec2-ea9e-4afd-baa2-3af273a98e5b",
   "metadata": {},
   "outputs": [
    {
     "name": "stdout",
     "output_type": "stream",
     "text": [
      "Collecting pandas\n",
      "  Using cached pandas-2.3.0-cp312-cp312-win_amd64.whl.metadata (19 kB)\n",
      "Requirement already satisfied: numpy>=1.26.0 in c:\\users\\alex\\.conda\\envs\\disertatie-primary\\lib\\site-packages (from pandas) (1.26.4)\n",
      "Requirement already satisfied: python-dateutil>=2.8.2 in c:\\users\\alex\\.conda\\envs\\disertatie-primary\\lib\\site-packages (from pandas) (2.9.0.post0)\n",
      "Requirement already satisfied: pytz>=2020.1 in c:\\users\\alex\\.conda\\envs\\disertatie-primary\\lib\\site-packages (from pandas) (2025.2)\n",
      "Requirement already satisfied: tzdata>=2022.7 in c:\\users\\alex\\.conda\\envs\\disertatie-primary\\lib\\site-packages (from pandas) (2025.2)\n",
      "Requirement already satisfied: six>=1.5 in c:\\users\\alex\\.conda\\envs\\disertatie-primary\\lib\\site-packages (from python-dateutil>=2.8.2->pandas) (1.17.0)\n",
      "Using cached pandas-2.3.0-cp312-cp312-win_amd64.whl (11.0 MB)\n",
      "Installing collected packages: pandas\n",
      "Successfully installed pandas-2.3.0\n"
     ]
    }
   ],
   "source": [
    "!pip install pandas"
   ]
  },
  {
   "cell_type": "code",
   "execution_count": 2,
   "id": "eea286e1-37c5-480e-8d30-14911fbf60ee",
   "metadata": {},
   "outputs": [
    {
     "name": "stderr",
     "output_type": "stream",
     "text": [
      "[nltk_data] Downloading package wordnet to\n",
      "[nltk_data]     C:\\Users\\Alex\\AppData\\Roaming\\nltk_data...\n",
      "[nltk_data]   Package wordnet is already up-to-date!\n",
      "[nltk_data] Downloading package stopwords to\n",
      "[nltk_data]     C:\\Users\\Alex\\AppData\\Roaming\\nltk_data...\n",
      "[nltk_data]   Package stopwords is already up-to-date!\n"
     ]
    },
    {
     "name": "stdout",
     "output_type": "stream",
     "text": [
      "\u001b[38;5;2m✔ Download and installation successful\u001b[0m\n",
      "You can now load the package via spacy.load('en_core_web_md')\n",
      "\u001b[38;5;3m⚠ Restart to reload dependencies\u001b[0m\n",
      "If you are in a Jupyter or Colab notebook, you may need to restart Python in\n",
      "order to load all the package's dependencies. You can do this by selecting the\n",
      "'Restart kernel' or 'Restart runtime' option.\n"
     ]
    }
   ],
   "source": [
    "import numpy as np\n",
    "\n",
    "import string\n",
    "import spacy\n",
    "import nltk\n",
    "\n",
    "import gensim\n",
    "from gensim import corpora\n",
    "\n",
    "import matplotlib.pyplot as plt\n",
    "\n",
    "import pyLDAvis\n",
    "import pyLDAvis.gensim_models\n",
    "\n",
    "nltk.download('wordnet')\n",
    "from nltk.corpus import wordnet as wn\n",
    "nltk.download('stopwords')\n",
    "from nltk.corpus import stopwords\n",
    "import spacy.cli\n",
    "spacy.cli.download(\"en_core_web_md\")\n",
    "import en_core_web_md\n",
    "from sklearn.feature_extraction.text import CountVectorizer\n",
    "from gensim.models.coherencemodel import CoherenceModel"
   ]
  },
  {
   "cell_type": "code",
   "execution_count": 3,
   "id": "51f1bc65-de54-41ca-a739-9459cade9540",
   "metadata": {
    "editable": true,
    "slideshow": {
     "slide_type": ""
    },
    "tags": []
   },
   "outputs": [],
   "source": [
    "with open(\"../Disertatie/Dataset/Lyrics_ExtractKLLyrics_29.05.json\", \"r\", encoding=\"utf-8\") as f:\n",
    "    data = json.load(f)\n",
    "    \n",
    "nlp = spacy.load(\"en_core_web_md\", disable=[\"parser\", \"ner\"])\n",
    "\n",
    "def clean_text(text):\n",
    "  delete_dict = {sp_char: '' for sp_char in string.punctuation}\n",
    "  delete_dict[' '] =' '\n",
    "  table = str.maketrans(delete_dict)\n",
    "  text1 = text.translate(table)\n",
    "  textArr= text1.split()\n",
    "  text2 = ' '.join([w for w in textArr if ( not w.isdigit() and \n",
    "                                           ( not w.isdigit() and len(w)>3))]) \n",
    "  return text2.lower()\n",
    "\n",
    "stop_words = stopwords.words('english')\n",
    "custom_stopwords = set(stop_words + ['yeah', 'ho', 'uh', 'yo', 'ayy'])\n",
    "two_len_words = ['ai', 've', '’s', 'oe', 'im', 'll', 're', '’m', 'ex']\n",
    "\n",
    "def remove_stopwords(text):\n",
    "    lyrics = text.split(' ')\n",
    "    stop_lyrics = \" \".join([i for i in lyrics if i not in custom_stopwords])\n",
    "    return stop_lyrics\n",
    "\n",
    "\n",
    "\n",
    "for i, song in enumerate(data):\n",
    "    song['lyrics'] = remove_stopwords(clean_text(song['lyrics']))\n",
    "    data[i]=song\n",
    "\n",
    "\n",
    "def lemmatization(texts, two_len_words ,allowed_postags=['NOUN', 'ADJ', 'VERB', 'ADV']): \n",
    "    output = []\n",
    "    output_all = []\n",
    "    for sent in texts:\n",
    "        doc = nlp(sent) \n",
    "        output.append([token.lemma_ \n",
    "                            for token in doc if (token.pos_ in allowed_postags and len(token)>1 and token.lemma_\n",
    "                                                 not in two_len_words)])\n",
    "    return output\n",
    "\n",
    "lyrics = [song['lyrics'] for song in data]\n",
    "tokenized_lyrics = lemmatization(lyrics, two_len_words)\n",
    "\n",
    "dictionary = corpora.Dictionary(tokenized_lyrics)\n",
    "dictionary.filter_extremes(no_below=4, no_above=0.5)\n",
    "doc_term_matrix = [dictionary.doc2bow(rev) for rev in tokenized_lyrics]\n",
    "\n",
    "LDA = gensim.models.ldamodel.LdaModel"
   ]
  },
  {
   "cell_type": "code",
   "execution_count": 4,
   "id": "bb8fe4d9-3580-4772-ab85-6e720153d6a2",
   "metadata": {},
   "outputs": [
    {
     "name": "stdout",
     "output_type": "stream",
     "text": [
      "Total number of tokens in lyrics: 90668\n",
      "Total number of unique token in lyrics 9104\n",
      "Dictionary<2805 unique tokens: ['accident', 'action', 'around', 'audience', 'baby']...>\n"
     ]
    }
   ],
   "source": [
    "import re\n",
    "total_words = sum(len(tokenized_lyric) for tokenized_lyric in tokenized_lyrics)\n",
    "\n",
    "unique_words = set()\n",
    "\n",
    "for tokenized_lyric in tokenized_lyrics:\n",
    "    for lyric in tokenized_lyric:\n",
    "        words = re.findall(r\"\\b\\w+\\b\", lyric)\n",
    "        unique_words.update(words)\n",
    "\n",
    "\n",
    "unique_words_not_stopwords = {word for word in unique_words if word not in custom_stopwords}\n",
    "\n",
    "print(\"Total number of tokens in lyrics:\", total_words)\n",
    "print(\"Total number of unique token in lyrics\", len(unique_words))\n",
    "print(dictionary)"
   ]
  },
  {
   "cell_type": "code",
   "execution_count": 5,
   "id": "77f39361-9465-46e7-a34a-cb7c73dccc48",
   "metadata": {
    "editable": true,
    "slideshow": {
     "slide_type": ""
    },
    "tags": []
   },
   "outputs": [
    {
     "name": "stdout",
     "output_type": "stream",
     "text": [
      "[+] Num topics: 4 - Coherence: 0.2643\n",
      "[+] Num topics: 5 - Coherence: 0.2461\n",
      "\n",
      "✅ Best model has 4 topics with coherence 0.2643\n"
     ]
    }
   ],
   "source": [
    "def compute_best_lda_model(dictionary, corpus, texts, limit=20, start=2, step=1, save_path='best_lda_model'):\n",
    "    best_model = None\n",
    "    best_coherence = float('-inf')\n",
    "    best_num_topics = 0\n",
    "\n",
    "    for num_topics in range(start, limit + 1, step):\n",
    "        model = LDA(corpus=corpus,\n",
    "                         id2word=dictionary,\n",
    "                         num_topics=num_topics,\n",
    "                         random_state=42,\n",
    "                         passes=300,\n",
    "                         iterations=350,\n",
    "                         eval_every=5)\n",
    "        \n",
    "        coherence_model = CoherenceModel(model=model, texts=texts, dictionary=dictionary, coherence='c_v')\n",
    "        coherence_score = coherence_model.get_coherence()\n",
    "        print(f\"[+] Num topics: {num_topics} - Coherence: {coherence_score:.4f}\")\n",
    "\n",
    "        if coherence_score > best_coherence:\n",
    "            best_model = model\n",
    "            best_coherence = coherence_score\n",
    "            best_num_topics = num_topics\n",
    "\n",
    "            # salvează temporar modelul\n",
    "            model.save(f\"{save_path}.model\")\n",
    "\n",
    "    print(f\"\\n✅ Best model has {best_num_topics} topics with coherence {best_coherence:.4f}\")\n",
    "    return best_model\n",
    "\n",
    "\n",
    "best_lda = compute_best_lda_model(dictionary, doc_term_matrix, tokenized_lyrics,\n",
    "                                  start=2, limit=10, step=1, save_path='lda_best_model')"
   ]
  },
  {
   "cell_type": "code",
   "execution_count": 6,
   "id": "0cb17d90-5aae-4a7f-987a-3f77004bdd09",
   "metadata": {},
   "outputs": [
    {
     "name": "stdout",
     "output_type": "stream",
     "text": [
      "\n",
      "Topic 0:\n",
      "0.015*\"life\" + 0.011*\"say\" + 0.010*\"need\" + 0.010*\"live\" + 0.010*\"give\" + 0.009*\"love\" + 0.008*\"look\" + 0.008*\"time\" + 0.008*\"take\" + 0.008*\"baby\"\n",
      "\n",
      "Topic 1:\n",
      "0.019*\"well\" + 0.019*\"shit\" + 0.015*\"blow\" + 0.009*\"dead\" + 0.008*\"city\" + 0.008*\"bitch\" + 0.007*\"life\" + 0.007*\"burn\" + 0.007*\"even\" + 0.007*\"boom\"\n",
      "\n",
      "Topic 2:\n",
      "0.014*\"bitch\" + 0.012*\"kill\" + 0.011*\"good\" + 0.009*\"hold\" + 0.008*\"come\" + 0.008*\"feel\" + 0.008*\"niggas\" + 0.008*\"time\" + 0.008*\"shit\" + 0.007*\"back\"\n",
      "\n",
      "Topic 3:\n",
      "0.015*\"fuck\" + 0.014*\"love\" + 0.014*\"shit\" + 0.013*\"bitch\" + 0.013*\"want\" + 0.012*\"come\" + 0.010*\"never\" + 0.009*\"take\" + 0.009*\"get\" + 0.009*\"time\"\n",
      "Perplexity:  -7.047517710400586\n",
      "Coherence:  0.2642975110482801\n"
     ]
    }
   ],
   "source": [
    "import pyLDAvis.gensim_models as gensimvis\n",
    "\n",
    "from gensim.models import LdaModel\n",
    "best_lda = LdaModel.load(\"lda_best_model.model\")\n",
    "\n",
    "for idx, topic in best_lda.print_topics(-1):\n",
    "    print(f\"\\nTopic {idx}:\")\n",
    "    print(topic)\n",
    "\n",
    "\n",
    "print('Perplexity: ', best_lda.log_perplexity(doc_term_matrix,\n",
    "                                                total_docs=611))  \n",
    "\n",
    "coherence_model_lda = CoherenceModel(model=best_lda,\n",
    "                                     texts=tokenized_lyrics, dictionary=dictionary , \n",
    "                                     coherence='c_v')\n",
    "coherence_lda = coherence_model_lda.get_coherence()\n",
    "\n",
    "print('Coherence: ', coherence_lda)\n",
    "\n",
    "vis = gensimvis.prepare(best_lda, doc_term_matrix, dictionary)\n",
    "pyLDAvis.save_html(vis, 'lda_kendrick_lyrics_nb4_5t.html')"
   ]
  },
  {
   "cell_type": "code",
   "execution_count": 18,
   "id": "023eef4f-464c-40e2-b055-8c1b5823df54",
   "metadata": {
    "editable": true,
    "slideshow": {
     "slide_type": ""
    },
    "tags": []
   },
   "outputs": [
    {
     "name": "stdout",
     "output_type": "stream",
     "text": [
      "{0: 147, 1: 50, 2: 135, 3: 279}\n",
      "Title: Not Like Us\n",
      "Assigned topic: Desire and Conflict in Relationships\n",
      "Title: HUMBLE.\n",
      "Assigned topic: Survival and Toughness\n",
      "Title: euphoria\n",
      "Assigned topic: Desire and Conflict in Relationships\n",
      "Title: Fuckin’ Problems\n",
      "Assigned topic: Desire and Conflict in Relationships\n",
      "Title: m.A.A.d city\n",
      "Assigned topic: Personal Reflection and Emotional Struggles\n",
      "Title: Swimming Pools (Drank)\n",
      "Assigned topic: Personal Reflection and Emotional Struggles\n",
      "Title: Money Trees\n",
      "Assigned topic: Desire and Conflict in Relationships\n",
      "Title: DNA.\n",
      "Assigned topic: Desire and Conflict in Relationships\n",
      "Title: XXX.\n",
      "Assigned topic: Personal Reflection and Emotional Struggles\n",
      "Title: meet the grahams\n",
      "Assigned topic: Personal Reflection and Emotional Struggles\n"
     ]
    }
   ],
   "source": [
    "topic_distributions = [best_lda.get_document_topics(doc_bow) for doc_bow in doc_term_matrix]\n",
    "\n",
    "dominant_topics = [max(topics, key=lambda x: x[1])[0] if topics else None for topics in topic_distributions]\n",
    "\n",
    "with open(\"../Disertatie/Dataset/Lyrics_ExtractKLLyrics_29.05.json\", \"r\", encoding=\"utf-8\") as f:\n",
    "    new_data = json.load(f)\n",
    "\n",
    "topic_labels = {\n",
    "    0: \"Personal Reflection and Emotional Struggles\",\n",
    "    1: \"Violence and Street Conflict\",\n",
    "    2: \"Survival and Toughness\",\n",
    "    3: \"Desire and Conflict in Relationships\"\n",
    "}\n",
    "count_topics={0:0, 1:0, 2:0, 3:0}\n",
    "\n",
    "for i, song in enumerate(new_data):\n",
    "    song[\"themeid\"] = dominant_topics[i]\n",
    "    song[\"theme\"] = topic_labels.get(dominant_topics[i], f\"Topic {dominant_topics[i]}\")\n",
    "    count_topics[dominant_topics[i]] +=1\n",
    "\n",
    "print(count_topics)\n",
    "for song in new_data[:10]:\n",
    "    print(f\"Title: {song['title']}\")\n",
    "    print(f\"Assigned topic: {song['theme']}\")"
   ]
  },
  {
   "cell_type": "code",
   "execution_count": 20,
   "id": "db160227-daff-466f-82df-746a8814e8b7",
   "metadata": {},
   "outputs": [],
   "source": [
    "with open(\"../Disertatie/Dataset/Lyrics_ExtractTopics_12.06.json\", \"w\", encoding=\"utf-8\") as f:\n",
    "    json.dump(new_data, f, ensure_ascii=False, indent=2)"
   ]
  },
  {
   "cell_type": "code",
   "execution_count": 21,
   "id": "92f2b5ce-bc32-45d4-a77a-7ecc83f97ee9",
   "metadata": {
    "editable": true,
    "slideshow": {
     "slide_type": ""
    },
    "tags": []
   },
   "outputs": [],
   "source": [
    "from collections import defaultdict\n",
    "\n",
    "\n",
    "with open(\"../Disertatie/Dataset/Lyrics_ExtractTopics_12.06.json\", \"r\", encoding=\"utf-8\") as f:\n",
    "    data = json.load(f)\n",
    "\n",
    "with open(\"../Disertatie/Restrictions/profanity.txt\", \"r\", encoding=\"utf-8\") as f:\n",
    "    profanity = set(word.strip() for word in f if word.strip())\n",
    "\n",
    "for song in data:\n",
    "    words = song['lyrics'].lower().split()\n",
    "    profanities = [word for word in words if word in profanity]\n",
    "    song[\"profanity_count\"] = len(profanities)\n",
    "\n",
    "topic_profanity = defaultdict(list)\n",
    "\n",
    "for song in data:\n",
    "    topic = song.get(\"theme\", f\"Topic {song['themeid']}\")\n",
    "    topic_profanity[topic].append(song[\"profanity_count\"])\n",
    "\n",
    "avg_profanity_by_topic = {\n",
    "    topic: round(sum(counts) / len(counts), 2)\n",
    "    for topic, counts in topic_profanity.items()\n",
    "}\n",
    "\n",
    "total_profanity_by_topic = {\n",
    "    topic: sum(counts)\n",
    "    for topic, counts in topic_profanity.items()\n",
    "}"
   ]
  },
  {
   "cell_type": "code",
   "execution_count": 26,
   "id": "95e2f915-b607-4934-802f-92089b061af2",
   "metadata": {},
   "outputs": [
    {
     "data": {
      "image/png": "[encoded data removed]",
      "text/plain": [
       "<Figure size 1000x600 with 1 Axes>"
      ]
     },
     "metadata": {},
     "output_type": "display_data"
    }
   ],
   "source": [
    "import matplotlib.pyplot as plt\n",
    "\n",
    "topics = list(avg_profanity_by_topic.keys())\n",
    "avg_counts = list(avg_profanity_by_topic.values())\n",
    "plt.figure(figsize=(10, 6))\n",
    "plt.barh(topics, avg_counts, color='tomato')\n",
    "plt.xlabel(\"Average Profanity Count\")\n",
    "plt.title(\"Average Profanity Usage per Topic\")\n",
    "plt.tight_layout()\n",
    "plt.show()"
   ]
  },
  {
   "cell_type": "code",
   "execution_count": 25,
   "id": "f9575a29-77c5-47a6-9b73-439520196199",
   "metadata": {},
   "outputs": [
    {
     "data": {
      "image/png": "[encoded data removed]",
      "text/plain": [
       "<Figure size 1000x600 with 1 Axes>"
      ]
     },
     "metadata": {},
     "output_type": "display_data"
    }
   ],
   "source": [
    "import matplotlib.pyplot as plt\n",
    "\n",
    "topics = list(avg_profanity_by_topic.keys())\n",
    "total_count = list(total_profanity_by_topic.values())\n",
    "plt.figure(figsize=(10, 6))\n",
    "plt.barh(topics, total_count, color='tomato')\n",
    "plt.xlabel(\"Total Profanity Count\")\n",
    "plt.title(\"Total Profanity Usage per Topic\")\n",
    "plt.tight_layout()\n",
    "plt.show()"
   ]
  },
  {
   "cell_type": "code",
   "execution_count": 43,
   "id": "603b90bd-8b3e-4843-948c-5e79fc57c2ac",
   "metadata": {},
   "outputs": [
    {
     "name": "stdout",
     "output_type": "stream",
     "text": [
      "\n",
      "Desire and Conflict in Relationships:\n",
      "  nigga (667 times)\n",
      "  fuck (447 times)\n",
      "  shit (443 times)\n",
      "\n",
      "Survival and Toughness:\n",
      "  nigga (235 times)\n",
      "  bitch (193 times)\n",
      "  fuck (140 times)\n",
      "\n",
      "Personal Reflection and Emotional Struggles:\n",
      "  nigga (163 times)\n",
      "  fuck (155 times)\n",
      "  bitch (100 times)\n",
      "\n",
      "Violence and Street Conflict:\n",
      "  nigga (118 times)\n",
      "  shit (113 times)\n",
      "  bitch (60 times)\n"
     ]
    }
   ],
   "source": [
    "from collections import defaultdict, Counter\n",
    "import re\n",
    "\n",
    "topic_profanities = defaultdict(Counter)\n",
    "\n",
    "def lemmatization_per_song(text, two_len_words ,allowed_postags=['NOUN', 'ADJ', 'VERB', 'ADV']): \n",
    "    output = []\n",
    "    output_all = []\n",
    "    doc = nlp(text) \n",
    "    output.append([token.lemma_ \n",
    "                        for token in doc if (token.pos_ in allowed_postags and len(token)>1 and token.lemma_\n",
    "                                             not in two_len_words)])\n",
    "    return output\n",
    "\n",
    "\n",
    "for song in data:\n",
    "    topic = song.get(\"theme\", f\"Topic {song['themeid']}\")\n",
    "    lyrics = song[\"lyrics\"].lower()\n",
    "    clean_lyrics = remove_stopwords(clean_text(lyrics))\n",
    "    words = lemmatization_per_song(clean_lyrics, two_len_words)\n",
    "    \n",
    "    for word in words[0]:\n",
    "        if word in profanity:\n",
    "            topic_profanities[topic][word] += 1\n",
    "\n",
    "top_3_profanities_by_topic = {\n",
    "    topic: counter.most_common(3)\n",
    "    for topic, counter in topic_profanities.items()\n",
    "}\n",
    "\n",
    "for topic, top_words in top_3_profanities_by_topic.items():\n",
    "    print(f\"\\n{topic}:\")\n",
    "    for word, count in top_words:\n",
    "        print(f\"  {word} ({count} times)\")"
   ]
  }
 ],
 "metadata": {
  "kernelspec": {
   "display_name": "Python [conda env:.conda-disertatie-primary]",
   "language": "python",
   "name": "conda-env-.conda-disertatie-primary-py"
  },
  "language_info": {
   "codemirror_mode": {
    "name": "ipython",
    "version": 3
   },
   "file_extension": ".py",
   "mimetype": "text/x-python",
   "name": "python",
   "nbconvert_exporter": "python",
   "pygments_lexer": "ipython3",
   "version": "3.12.9"
  }
 },
 "nbformat": 4,
 "nbformat_minor": 5
}
