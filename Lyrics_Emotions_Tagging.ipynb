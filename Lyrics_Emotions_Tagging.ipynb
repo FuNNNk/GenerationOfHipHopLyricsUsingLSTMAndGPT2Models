{
  "cells": [
    {
      "cell_type": "markdown",
      "metadata": {
        "id": "YjVgrSmrdxkx"
      },
      "source": [
        "# Lyrics Emotions Project"
      ]
    },
    {
      "cell_type": "markdown",
      "metadata": {
        "id": "zDHcgPk1dxk0"
      },
      "source": [
        "## Our Data"
      ]
    },
    {
      "cell_type": "markdown",
      "metadata": {
        "id": "BYZBFQChdxk1"
      },
      "source": [
        "Before doing anything with data, we need to import the necessary libraries to read and manipulate the data."
      ]
    },
    {
      "cell_type": "code",
      "source": [
        "from google.colab import drive\n",
        "drive.mount('/content/drive')"
      ],
      "metadata": {
        "id": "KzHhIErTf5A0",
        "outputId": "410d0392-0c91-45b1-d946-ba56f2d825e1",
        "colab": {
          "base_uri": "https://localhost:8080/"
        }
      },
      "execution_count": 1,
      "outputs": [
        {
          "output_type": "stream",
          "name": "stdout",
          "text": [
            "Mounted at /content/drive\n"
          ]
        }
      ]
    },
    {
      "cell_type": "code",
      "execution_count": 2,
      "metadata": {
        "id": "ZybdYjhBdxk2"
      },
      "outputs": [],
      "source": [
        "import pandas as pd"
      ]
    },
    {
      "cell_type": "code",
      "source": [
        "from sklearn.feature_extraction.text import TfidfVectorizer\n",
        "from sklearn.svm import LinearSVC\n",
        "from sklearn.pipeline import make_pipeline\n",
        "from sklearn.model_selection import train_test_split\n",
        "from sklearn.metrics import accuracy_score, classification_report\n",
        "from sklearn.metrics import f1_score\n",
        "from sklearn.linear_model import LogisticRegression\n",
        "from sklearn.tree import DecisionTreeClassifier\n",
        "from sklearn.ensemble import RandomForestClassifier\n",
        "from sklearn.naive_bayes import GaussianNB\n",
        "from sklearn.neural_network import MLPClassifier\n",
        "from sklearn.model_selection import cross_val_score\n",
        "from sklearn import metrics\n",
        "from sklearn.metrics import confusion_matrix\n",
        "import numpy as np\n",
        "import itertools\n",
        "from nltk.tokenize import WordPunctTokenizer\n",
        "import nltk"
      ],
      "metadata": {
        "id": "LyfuFzMt9c-b"
      },
      "execution_count": 60,
      "outputs": []
    },
    {
      "cell_type": "code",
      "execution_count": 46,
      "metadata": {
        "id": "dDJAH9EZdxk-",
        "outputId": "970379f6-c114-42aa-81ec-5cd3ca32f7ce",
        "colab": {
          "base_uri": "https://localhost:8080/",
          "height": 206
        }
      },
      "outputs": [
        {
          "output_type": "execute_result",
          "data": {
            "text/plain": [
              "           artist    genre                  title                    album  \\\n",
              "0         Nirvana     Rock  You Know You’re Right                  Nirvana   \n",
              "1   Damian Marley   Reggae             Here We Go               Stony Hill   \n",
              "2  The Mission UK     Rock                   Jade  Another Fall from Grace   \n",
              "3            UB40   Reggae       Food For Thought              Signing Off   \n",
              "4     Johnny Cash  Country   I’ve Been Everywhere   American II: Unchained   \n",
              "\n",
              "     year                                             lyrics  \\\n",
              "0  2002.0  I will never bother you\\nI will never promise ...   \n",
              "1  2017.0  Here we go\\nMy big ego is gonna get me in trou...   \n",
              "2  2016.0  She came as Lolita dressed as Venus\\nAnd adorn...   \n",
              "3  1980.0  Ivory Madonna, dying in the dust\\nWaiting for ...   \n",
              "4  1996.0  I was totin' my pack along the dusty Winnemucc...   \n",
              "\n",
              "                                       labels  \n",
              "0                           Calmness, Sadness  \n",
              "1                              Power, Tension  \n",
              "2  Amazement, Calmness, Solemnity, Tenderness  \n",
              "3         Joyful-activation, Sadness, Tension  \n",
              "4      Amazement, Calmness, Joyful-activation  "
            ],
            "text/html": [
              "\n",
              "  <div id=\"df-2b3a54ca-b55d-4f7f-9b9e-c2010aaedf12\" class=\"colab-df-container\">\n",
              "    <div>\n",
              "<style scoped>\n",
              "    .dataframe tbody tr th:only-of-type {\n",
              "        vertical-align: middle;\n",
              "    }\n",
              "\n",
              "    .dataframe tbody tr th {\n",
              "        vertical-align: top;\n",
              "    }\n",
              "\n",
              "    .dataframe thead th {\n",
              "        text-align: right;\n",
              "    }\n",
              "</style>\n",
              "<table border=\"1\" class=\"dataframe\">\n",
              "  <thead>\n",
              "    <tr style=\"text-align: right;\">\n",
              "      <th></th>\n",
              "      <th>artist</th>\n",
              "      <th>genre</th>\n",
              "      <th>title</th>\n",
              "      <th>album</th>\n",
              "      <th>year</th>\n",
              "      <th>lyrics</th>\n",
              "      <th>labels</th>\n",
              "    </tr>\n",
              "  </thead>\n",
              "  <tbody>\n",
              "    <tr>\n",
              "      <th>0</th>\n",
              "      <td>Nirvana</td>\n",
              "      <td>Rock</td>\n",
              "      <td>You Know You’re Right</td>\n",
              "      <td>Nirvana</td>\n",
              "      <td>2002.0</td>\n",
              "      <td>I will never bother you\\nI will never promise ...</td>\n",
              "      <td>Calmness, Sadness</td>\n",
              "    </tr>\n",
              "    <tr>\n",
              "      <th>1</th>\n",
              "      <td>Damian Marley</td>\n",
              "      <td>Reggae</td>\n",
              "      <td>Here We Go</td>\n",
              "      <td>Stony Hill</td>\n",
              "      <td>2017.0</td>\n",
              "      <td>Here we go\\nMy big ego is gonna get me in trou...</td>\n",
              "      <td>Power, Tension</td>\n",
              "    </tr>\n",
              "    <tr>\n",
              "      <th>2</th>\n",
              "      <td>The Mission UK</td>\n",
              "      <td>Rock</td>\n",
              "      <td>Jade</td>\n",
              "      <td>Another Fall from Grace</td>\n",
              "      <td>2016.0</td>\n",
              "      <td>She came as Lolita dressed as Venus\\nAnd adorn...</td>\n",
              "      <td>Amazement, Calmness, Solemnity, Tenderness</td>\n",
              "    </tr>\n",
              "    <tr>\n",
              "      <th>3</th>\n",
              "      <td>UB40</td>\n",
              "      <td>Reggae</td>\n",
              "      <td>Food For Thought</td>\n",
              "      <td>Signing Off</td>\n",
              "      <td>1980.0</td>\n",
              "      <td>Ivory Madonna, dying in the dust\\nWaiting for ...</td>\n",
              "      <td>Joyful-activation, Sadness, Tension</td>\n",
              "    </tr>\n",
              "    <tr>\n",
              "      <th>4</th>\n",
              "      <td>Johnny Cash</td>\n",
              "      <td>Country</td>\n",
              "      <td>I’ve Been Everywhere</td>\n",
              "      <td>American II: Unchained</td>\n",
              "      <td>1996.0</td>\n",
              "      <td>I was totin' my pack along the dusty Winnemucc...</td>\n",
              "      <td>Amazement, Calmness, Joyful-activation</td>\n",
              "    </tr>\n",
              "  </tbody>\n",
              "</table>\n",
              "</div>\n",
              "    <div class=\"colab-df-buttons\">\n",
              "\n",
              "  <div class=\"colab-df-container\">\n",
              "    <button class=\"colab-df-convert\" onclick=\"convertToInteractive('df-2b3a54ca-b55d-4f7f-9b9e-c2010aaedf12')\"\n",
              "            title=\"Convert this dataframe to an interactive table.\"\n",
              "            style=\"display:none;\">\n",
              "\n",
              "  <svg xmlns=\"http://www.w3.org/2000/svg\" height=\"24px\" viewBox=\"0 -960 960 960\">\n",
              "    <path d=\"M120-120v-720h720v720H120Zm60-500h600v-160H180v160Zm220 220h160v-160H400v160Zm0 220h160v-160H400v160ZM180-400h160v-160H180v160Zm440 0h160v-160H620v160ZM180-180h160v-160H180v160Zm440 0h160v-160H620v160Z\"/>\n",
              "  </svg>\n",
              "    </button>\n",
              "\n",
              "  <style>\n",
              "    .colab-df-container {\n",
              "      display:flex;\n",
              "      gap: 12px;\n",
              "    }\n",
              "\n",
              "    .colab-df-convert {\n",
              "      background-color: #E8F0FE;\n",
              "      border: none;\n",
              "      border-radius: 50%;\n",
              "      cursor: pointer;\n",
              "      display: none;\n",
              "      fill: #1967D2;\n",
              "      height: 32px;\n",
              "      padding: 0 0 0 0;\n",
              "      width: 32px;\n",
              "    }\n",
              "\n",
              "    .colab-df-convert:hover {\n",
              "      background-color: #E2EBFA;\n",
              "      box-shadow: 0px 1px 2px rgba(60, 64, 67, 0.3), 0px 1px 3px 1px rgba(60, 64, 67, 0.15);\n",
              "      fill: #174EA6;\n",
              "    }\n",
              "\n",
              "    .colab-df-buttons div {\n",
              "      margin-bottom: 4px;\n",
              "    }\n",
              "\n",
              "    [theme=dark] .colab-df-convert {\n",
              "      background-color: #3B4455;\n",
              "      fill: #D2E3FC;\n",
              "    }\n",
              "\n",
              "    [theme=dark] .colab-df-convert:hover {\n",
              "      background-color: #434B5C;\n",
              "      box-shadow: 0px 1px 3px 1px rgba(0, 0, 0, 0.15);\n",
              "      filter: drop-shadow(0px 1px 2px rgba(0, 0, 0, 0.3));\n",
              "      fill: #FFFFFF;\n",
              "    }\n",
              "  </style>\n",
              "\n",
              "    <script>\n",
              "      const buttonEl =\n",
              "        document.querySelector('#df-2b3a54ca-b55d-4f7f-9b9e-c2010aaedf12 button.colab-df-convert');\n",
              "      buttonEl.style.display =\n",
              "        google.colab.kernel.accessAllowed ? 'block' : 'none';\n",
              "\n",
              "      async function convertToInteractive(key) {\n",
              "        const element = document.querySelector('#df-2b3a54ca-b55d-4f7f-9b9e-c2010aaedf12');\n",
              "        const dataTable =\n",
              "          await google.colab.kernel.invokeFunction('convertToInteractive',\n",
              "                                                    [key], {});\n",
              "        if (!dataTable) return;\n",
              "\n",
              "        const docLinkHtml = 'Like what you see? Visit the ' +\n",
              "          '<a target=\"_blank\" href=https://colab.research.google.com/notebooks/data_table.ipynb>data table notebook</a>'\n",
              "          + ' to learn more about interactive tables.';\n",
              "        element.innerHTML = '';\n",
              "        dataTable['output_type'] = 'display_data';\n",
              "        await google.colab.output.renderOutput(dataTable, element);\n",
              "        const docLink = document.createElement('div');\n",
              "        docLink.innerHTML = docLinkHtml;\n",
              "        element.appendChild(docLink);\n",
              "      }\n",
              "    </script>\n",
              "  </div>\n",
              "\n",
              "\n",
              "<div id=\"df-7d320393-c0bc-4cab-8927-3b0b066b8912\">\n",
              "  <button class=\"colab-df-quickchart\" onclick=\"quickchart('df-7d320393-c0bc-4cab-8927-3b0b066b8912')\"\n",
              "            title=\"Suggest charts\"\n",
              "            style=\"display:none;\">\n",
              "\n",
              "<svg xmlns=\"http://www.w3.org/2000/svg\" height=\"24px\"viewBox=\"0 0 24 24\"\n",
              "     width=\"24px\">\n",
              "    <g>\n",
              "        <path d=\"M19 3H5c-1.1 0-2 .9-2 2v14c0 1.1.9 2 2 2h14c1.1 0 2-.9 2-2V5c0-1.1-.9-2-2-2zM9 17H7v-7h2v7zm4 0h-2V7h2v10zm4 0h-2v-4h2v4z\"/>\n",
              "    </g>\n",
              "</svg>\n",
              "  </button>\n",
              "\n",
              "<style>\n",
              "  .colab-df-quickchart {\n",
              "      --bg-color: #E8F0FE;\n",
              "      --fill-color: #1967D2;\n",
              "      --hover-bg-color: #E2EBFA;\n",
              "      --hover-fill-color: #174EA6;\n",
              "      --disabled-fill-color: #AAA;\n",
              "      --disabled-bg-color: #DDD;\n",
              "  }\n",
              "\n",
              "  [theme=dark] .colab-df-quickchart {\n",
              "      --bg-color: #3B4455;\n",
              "      --fill-color: #D2E3FC;\n",
              "      --hover-bg-color: #434B5C;\n",
              "      --hover-fill-color: #FFFFFF;\n",
              "      --disabled-bg-color: #3B4455;\n",
              "      --disabled-fill-color: #666;\n",
              "  }\n",
              "\n",
              "  .colab-df-quickchart {\n",
              "    background-color: var(--bg-color);\n",
              "    border: none;\n",
              "    border-radius: 50%;\n",
              "    cursor: pointer;\n",
              "    display: none;\n",
              "    fill: var(--fill-color);\n",
              "    height: 32px;\n",
              "    padding: 0;\n",
              "    width: 32px;\n",
              "  }\n",
              "\n",
              "  .colab-df-quickchart:hover {\n",
              "    background-color: var(--hover-bg-color);\n",
              "    box-shadow: 0 1px 2px rgba(60, 64, 67, 0.3), 0 1px 3px 1px rgba(60, 64, 67, 0.15);\n",
              "    fill: var(--button-hover-fill-color);\n",
              "  }\n",
              "\n",
              "  .colab-df-quickchart-complete:disabled,\n",
              "  .colab-df-quickchart-complete:disabled:hover {\n",
              "    background-color: var(--disabled-bg-color);\n",
              "    fill: var(--disabled-fill-color);\n",
              "    box-shadow: none;\n",
              "  }\n",
              "\n",
              "  .colab-df-spinner {\n",
              "    border: 2px solid var(--fill-color);\n",
              "    border-color: transparent;\n",
              "    border-bottom-color: var(--fill-color);\n",
              "    animation:\n",
              "      spin 1s steps(1) infinite;\n",
              "  }\n",
              "\n",
              "  @keyframes spin {\n",
              "    0% {\n",
              "      border-color: transparent;\n",
              "      border-bottom-color: var(--fill-color);\n",
              "      border-left-color: var(--fill-color);\n",
              "    }\n",
              "    20% {\n",
              "      border-color: transparent;\n",
              "      border-left-color: var(--fill-color);\n",
              "      border-top-color: var(--fill-color);\n",
              "    }\n",
              "    30% {\n",
              "      border-color: transparent;\n",
              "      border-left-color: var(--fill-color);\n",
              "      border-top-color: var(--fill-color);\n",
              "      border-right-color: var(--fill-color);\n",
              "    }\n",
              "    40% {\n",
              "      border-color: transparent;\n",
              "      border-right-color: var(--fill-color);\n",
              "      border-top-color: var(--fill-color);\n",
              "    }\n",
              "    60% {\n",
              "      border-color: transparent;\n",
              "      border-right-color: var(--fill-color);\n",
              "    }\n",
              "    80% {\n",
              "      border-color: transparent;\n",
              "      border-right-color: var(--fill-color);\n",
              "      border-bottom-color: var(--fill-color);\n",
              "    }\n",
              "    90% {\n",
              "      border-color: transparent;\n",
              "      border-bottom-color: var(--fill-color);\n",
              "    }\n",
              "  }\n",
              "</style>\n",
              "\n",
              "  <script>\n",
              "    async function quickchart(key) {\n",
              "      const quickchartButtonEl =\n",
              "        document.querySelector('#' + key + ' button');\n",
              "      quickchartButtonEl.disabled = true;  // To prevent multiple clicks.\n",
              "      quickchartButtonEl.classList.add('colab-df-spinner');\n",
              "      try {\n",
              "        const charts = await google.colab.kernel.invokeFunction(\n",
              "            'suggestCharts', [key], {});\n",
              "      } catch (error) {\n",
              "        console.error('Error during call to suggestCharts:', error);\n",
              "      }\n",
              "      quickchartButtonEl.classList.remove('colab-df-spinner');\n",
              "      quickchartButtonEl.classList.add('colab-df-quickchart-complete');\n",
              "    }\n",
              "    (() => {\n",
              "      let quickchartButtonEl =\n",
              "        document.querySelector('#df-7d320393-c0bc-4cab-8927-3b0b066b8912 button');\n",
              "      quickchartButtonEl.style.display =\n",
              "        google.colab.kernel.accessAllowed ? 'block' : 'none';\n",
              "    })();\n",
              "  </script>\n",
              "</div>\n",
              "    </div>\n",
              "  </div>\n"
            ],
            "application/vnd.google.colaboratory.intrinsic+json": {
              "type": "dataframe",
              "variable_name": "multi_label",
              "summary": "{\n  \"name\": \"multi_label\",\n  \"rows\": 1160,\n  \"fields\": [\n    {\n      \"column\": \"artist\",\n      \"properties\": {\n        \"dtype\": \"category\",\n        \"num_unique_values\": 95,\n        \"samples\": [\n          \"Kanye West\",\n          \"Peter Tosh\",\n          \"Kenny Chesney\"\n        ],\n        \"semantic_type\": \"\",\n        \"description\": \"\"\n      }\n    },\n    {\n      \"column\": \"genre\",\n      \"properties\": {\n        \"dtype\": \"category\",\n        \"num_unique_values\": 4,\n        \"samples\": [\n          \"Reggae\",\n          \"Hip-Hop\",\n          \"Rock\"\n        ],\n        \"semantic_type\": \"\",\n        \"description\": \"\"\n      }\n    },\n    {\n      \"column\": \"title\",\n      \"properties\": {\n        \"dtype\": \"string\",\n        \"num_unique_values\": 1160,\n        \"samples\": [\n          \"Come Over\",\n          \"Come Together\",\n          \"Dogs\"\n        ],\n        \"semantic_type\": \"\",\n        \"description\": \"\"\n      }\n    },\n    {\n      \"column\": \"album\",\n      \"properties\": {\n        \"dtype\": \"category\",\n        \"num_unique_values\": 560,\n        \"samples\": [\n          \"Sgt. Pepper\\u2019s Lonely Hearts Club Band\",\n          \"Crash My Party\",\n          \"Something Else by the Kinks\"\n        ],\n        \"semantic_type\": \"\",\n        \"description\": \"\"\n      }\n    },\n    {\n      \"column\": \"year\",\n      \"properties\": {\n        \"dtype\": \"number\",\n        \"std\": 16.289667063479662,\n        \"min\": 1947.0,\n        \"max\": 2019.0,\n        \"num_unique_values\": 68,\n        \"samples\": [\n          1983.0,\n          1995.0,\n          1996.0\n        ],\n        \"semantic_type\": \"\",\n        \"description\": \"\"\n      }\n    },\n    {\n      \"column\": \"lyrics\",\n      \"properties\": {\n        \"dtype\": \"string\",\n        \"num_unique_values\": 1160,\n        \"samples\": [\n          \"{Verse 1}\\nI turn the TV off, to turn it on again\\nStaring at the blades of the fan as it spins around\\nCounting every crack, the clock is wide awake\\nTalking to myself, anything to make a sound\\n{Chorus}\\nI told you I wouldn\\u2019t call, I told you I wouldn\\u2019t care\\nBut baby climbing the walls gets me nowhere\\nI don\\u2019t think that I can take this bed getting any colder\\nCome over, come over, come over, come over, come over\\n{Verse 2}\\nYou can say we\\u2019re done the way you always do\\nIt\\u2019s easier to lie to me than to yourself\\nForget about your friends, you know they\\u2019re gonna say\\nWe\\u2019re bad for each other, but we ain\\u2019t good for anyone else\\n{Chorus}\\nI told you I wouldn\\u2019t call, I told you I wouldn\\u2019t care\\nBut baby climbing the walls gets me nowhere\\nI don\\u2019t think that I can take this bed getting any colder\\nCome over, come over, come over, come over, come over\\n{Bridge}\\nWe don\\u2019t have to miss each other, come over\\nWe don\\u2019t have to fix each other, come over\\nWe don\\u2019t have to say forever, come over\\nYou don\\u2019t have to stay forever, come over\\n{Chorus}\\nI told you I wouldn\\u2019t call, I told you I wouldn\\u2019t care\\nBut baby climbing the walls gets me nowhere\\nI don\\u2019t think that I can take this bed getting any colder\\nCome over, come over, come over, come over, come over\\n{Outro}\\nCome over, come over, come over, come over, come over\\nCome over, come over, come over, come over, come over\",\n          \"Shoot me\\nShoot me\\nShoot me\\nShoot me\\n\\nHere come old flat-top, he come groovin' up slowly\\nHe got ju-ju eyeball, he one holy roller\\nHe got hair down to his knee\\nGot to be a joker, he just do what he please\\n\\nShoot me\\nShoot me\\nShoot me\\nShoot me\\n\\nHe wear no shoeshine, he got toe-jam football\\nHe got monkey finger, he shoot Coca-Cola\\nHe say, \\\"I know you, you know me\\\"\\nOne thing I can tell you is you got to be free\\n\\nCome together, right now\\nOver me\\n\\nShoot me\\nShoot me\\nShoot me\\nShoot me\\n\\nHe bag production, he got walrus gumboot\\nHe got Ono sideboard, he one spinal cracker\\nHe got feet down below his knee\\nHold you in his armchair, you can feel his disease\\n\\nCome together, right now\\nOver me\\n\\nShoot me\\nShoot me\\nRight!\\n\\n\\nCome, come, come, come\\n\\nHe roller-coaster, he got early warnin'\\nHe got muddy water, he one mojo filter\\nHe say, \\\"One and one and one is three.\\\"\\nGot to be good-lookin' 'cause he's so hard to see\\n\\nCome together, right now\\nOver me\\n\\nShoot me\\nShoot me\\nShoot me\\nShoot me\\nUgh!\\n\\nCome together, yeah\\nCome together, yeah\\nCome together, yeah\\nCome together, yeah\\nCome together, yeah\\nCome together, yeah\\nCome together, yeah\\nUh...\\nCome together, yeah\\nCome together, yeah\\nCome together...\",\n          \"You got to be crazy, you gotta have a real need\\nYou gotta sleep on your toes and when you're on the street\\nYou got to be able to pick out the easy meat with your eyes closed\\nAnd then moving in silently, down wind and out of sight\\nYou got to strike when the moment is right without thinking\\nAnd after a while, you can work on points for style\\nLike the club tie, and the firm handshake\\nA certain look in the eye and an easy smile\\nYou have to be trusted by the people that you lie to\\nSo that when they turn their backs on you\\nYou'll get the chance to put the knife in\\n\\nYou gotta keep one eye looking over your shoulder\\nYou know, it's going to get harder, and harder, and harder\\nAs you get older\\nYeah, and in the end you'll pack up and fly down south\\nHide your head in the sand\\nJust another sad old man\\nAll alone and dying of cancer\\n\\n\\nAnd when you lose control, you'll reap the harvest you have sown\\nAnd as the fear grows, the bad blood slows and turns to stone\\nAnd it's too late to lose the weight you used to need to throw around\\nSo have a good drown, as you go down all alone\\nDragged down by the stone\\n\\n(Stone, stone, stone...)\\n\\nGotta admit that I'm a little bit confused\\nSometimes it seems to me as if I'm just being used\\nGotta stay awake, gotta try and shake off this creeping malaise\\nIf I don't stand my own ground, how can I find my way out of this maze\\nDeaf, dumb and blind, you just keep on pretending\\nThat everyone's expendable, and no one has a real friend\\nAnd it seems to you the thing to do would be to isolate the winner\\nEverything's done under the sun\\nBut you believe at heart everyone's a killer\\n\\n\\nWho was born in a house full of pain\\nWho was trained not to spit in the fan\\nWho was told what to do by the man\\nWho was broken by trained personnel\\nWho was fitted with collar and chain\\nWho was given a pat on the back\\nWho was breaking away from the pack\\nWho was only a stranger at home\\nWho was ground down in the end\\nWho was found dead on the phone\\nWho was dragged down by the stone\\nWho was dragged down by the stone\"\n        ],\n        \"semantic_type\": \"\",\n        \"description\": \"\"\n      }\n    },\n    {\n      \"column\": \"labels\",\n      \"properties\": {\n        \"dtype\": \"category\",\n        \"num_unique_values\": 272,\n        \"samples\": [\n          \"Amazement, Joyful-activation, Nostalgia, Sadness, Solemnity, Tension\",\n          \"Amazement, Power, Sadness, Tension\",\n          \"Joyful-activation, Power, Sadness, Tenderness\"\n        ],\n        \"semantic_type\": \"\",\n        \"description\": \"\"\n      }\n    }\n  ]\n}"
            }
          },
          "metadata": {},
          "execution_count": 46
        }
      ],
      "source": [
        "multi_label = pd.read_csv('/content/drive/MyDrive/MultiLabel.csv', encoding='utf-8')\n",
        "multi_label.head()"
      ]
    },
    {
      "cell_type": "markdown",
      "metadata": {
        "id": "cYs40ttjdxk_"
      },
      "source": [
        "This dataset contains the same information but differs in the final column, with it being labels and containing multiple labels for each example. This dataset is to be used for the Multi-Label Classification problem."
      ]
    },
    {
      "cell_type": "markdown",
      "metadata": {
        "id": "0_DzxvJ5dxlA"
      },
      "source": [
        "## Data Exploration and Preprocessing"
      ]
    },
    {
      "cell_type": "markdown",
      "metadata": {
        "id": "AZywZkIIdxlM"
      },
      "source": [
        "### B: Multi-Label Classification"
      ]
    },
    {
      "cell_type": "markdown",
      "metadata": {
        "id": "j9adTAY0dxlM"
      },
      "source": [
        "First we are going to take a look at the distribution of labels in our dataset."
      ]
    },
    {
      "cell_type": "markdown",
      "metadata": {
        "id": "KIWt0Lq_dxlN"
      },
      "source": [
        "After taking a closer look at the data in hand, we proceed with solving the classification problem."
      ]
    },
    {
      "cell_type": "code",
      "execution_count": 5,
      "metadata": {
        "id": "4H_MxxVbdxlN"
      },
      "outputs": [],
      "source": [
        "from sklearn.preprocessing import MultiLabelBinarizer"
      ]
    },
    {
      "cell_type": "markdown",
      "metadata": {
        "id": "ZYVZyAh_dxlN"
      },
      "source": [
        "For this task we will need a Binarizer for the labels. As each example is annotated as more than one classes, we need to transform this information to a machine-readable format. But first, let's create X and y."
      ]
    },
    {
      "cell_type": "code",
      "execution_count": 6,
      "metadata": {
        "id": "vYocUIxIdxlO",
        "outputId": "10e93c34-48f2-40c9-e5dd-9b80ebb8c160",
        "colab": {
          "base_uri": "https://localhost:8080/"
        }
      },
      "outputs": [
        {
          "output_type": "execute_result",
          "data": {
            "text/plain": [
              "0    I will never bother you\\nI will never promise ...\n",
              "1    Here we go\\nMy big ego is gonna get me in trou...\n",
              "2    She came as Lolita dressed as Venus\\nAnd adorn...\n",
              "3    Ivory Madonna, dying in the dust\\nWaiting for ...\n",
              "4    I was totin' my pack along the dusty Winnemucc...\n",
              "Name: lyrics, dtype: object"
            ]
          },
          "metadata": {},
          "execution_count": 6
        }
      ],
      "source": [
        "X = multi_label['lyrics']\n",
        "X.head()"
      ]
    },
    {
      "cell_type": "code",
      "source": [
        "label_dataframe = pd.DataFrame(multi_label['labels'])\n",
        "label_dataframe['labels'] = label_dataframe['labels'].str.lower()\n",
        "for i, label in label_dataframe.iterrows():\n",
        "  label= list(str(label[0]).split(', '))\n",
        "  label_dataframe.at[i,'labels'] = label\n",
        "label_dataframe['labels'][0]"
      ],
      "metadata": {
        "id": "xQeaVvBIryuH",
        "outputId": "ab00aba8-f426-4b35-ce00-a0561a8bf5c7",
        "colab": {
          "base_uri": "https://localhost:8080/"
        }
      },
      "execution_count": 56,
      "outputs": [
        {
          "output_type": "execute_result",
          "data": {
            "text/plain": [
              "['calmness', 'sadness']"
            ]
          },
          "metadata": {},
          "execution_count": 56
        }
      ]
    },
    {
      "cell_type": "code",
      "source": [
        "df_MLB = pd.DataFrame({\"genre\": [[\"action\", \"drama\",\"fantasy\"], [\"fantasy\",\"action\"], [\"drama\"], [\"sci-fi\", \"drama\"]]})\n",
        "df_MLB['genre']\n",
        "df_MLB['genre'][0]"
      ],
      "metadata": {
        "id": "EPHvY1VKDsGz",
        "outputId": "6783a05b-ac75-4456-fbde-95e1b20f3ac6",
        "colab": {
          "base_uri": "https://localhost:8080/"
        }
      },
      "execution_count": 50,
      "outputs": [
        {
          "output_type": "execute_result",
          "data": {
            "text/plain": [
              "['action', 'drama', 'fantasy']"
            ]
          },
          "metadata": {},
          "execution_count": 50
        }
      ]
    },
    {
      "cell_type": "code",
      "execution_count": 57,
      "metadata": {
        "id": "mjd03yVNdxlO",
        "outputId": "b0eb7a9b-3b61-406b-94cd-109f8327cf71",
        "colab": {
          "base_uri": "https://localhost:8080/"
        }
      },
      "outputs": [
        {
          "output_type": "execute_result",
          "data": {
            "text/plain": [
              "array(['amazement', 'calmness', 'joyful-activation', 'nostalgia', 'power',\n",
              "       'sadness', 'solemnity', 'tenderness', 'tension'], dtype=object)"
            ]
          },
          "metadata": {},
          "execution_count": 57
        }
      ],
      "source": [
        "mlb = MultiLabelBinarizer()\n",
        "y = mlb.fit_transform(label_dataframe['labels'])\n",
        "y\n",
        "mlb.classes_"
      ]
    },
    {
      "cell_type": "markdown",
      "metadata": {
        "id": "hNwRiKghdxlQ"
      },
      "source": [
        "In the line above, our labels are transformed into arrays, where 1 indicates the presence of a specific class."
      ]
    },
    {
      "cell_type": "code",
      "execution_count": 58,
      "metadata": {
        "id": "wmgGE0h4dxlQ"
      },
      "outputs": [],
      "source": [
        "from sklearn.linear_model import LogisticRegression\n",
        "from sklearn.multiclass import OneVsRestClassifier"
      ]
    },
    {
      "cell_type": "markdown",
      "metadata": {
        "id": "N3MJF2TXdxlQ"
      },
      "source": [
        "For this problem we are using Logistic Regression-trained classifiers for each class, with the help of the OneVsRestClassifier. The data is again fed into the classifier via a pipeline, where it is transformed into vectors of TF/IDF features."
      ]
    },
    {
      "cell_type": "code",
      "execution_count": 61,
      "metadata": {
        "id": "K-AxhLn6dxlR"
      },
      "outputs": [],
      "source": [
        "tfv = TfidfVectorizer(min_df=3, max_features=3000, strip_accents='unicode',lowercase =True,\n",
        "                            analyzer='word', token_pattern=r'\\w{3,}', ngram_range=(1,1),\n",
        "                            use_idf=True,smooth_idf=True, sublinear_tf=True, stop_words = \"english\")\n",
        "lr = LogisticRegression()\n",
        "clf = OneVsRestClassifier(lr)\n",
        "pipeline = make_pipeline(tfv, clf)"
      ]
    },
    {
      "cell_type": "markdown",
      "metadata": {
        "id": "C-Lur25VdxlR"
      },
      "source": [
        "Now, that we have our model, we once again split into training and test sets to calculate our classifier's efficiency in classifying lyrics into sets of emotions' labels."
      ]
    },
    {
      "cell_type": "code",
      "execution_count": 62,
      "metadata": {
        "id": "_OEukpQ_dxlR"
      },
      "outputs": [],
      "source": [
        "X_train, X_test, y_train, y_test = train_test_split(X, y, test_size=0.25, random_state = 42)"
      ]
    },
    {
      "cell_type": "markdown",
      "metadata": {
        "id": "94O3TkHWdxlR"
      },
      "source": [
        "Before we fit our classifiers, we import the f1-score metric to evaluate the efficiency of learning of our model."
      ]
    },
    {
      "cell_type": "code",
      "execution_count": 63,
      "metadata": {
        "id": "fCkJQgjqdxlS"
      },
      "outputs": [],
      "source": [
        "from sklearn.metrics import f1_score"
      ]
    },
    {
      "cell_type": "markdown",
      "metadata": {
        "id": "yTknOvELdxlS"
      },
      "source": [
        "This time the average setting of f1_score is set to micro in order to aggregate the contributions of all classes and compute the average metric."
      ]
    },
    {
      "cell_type": "code",
      "source": [
        "kendrick_lyrics = pd.read_csv('/content/drive/MyDrive/convert_sample.csv', encoding='utf-8')\n",
        "kendrick_lyrics.head()"
      ],
      "metadata": {
        "collapsed": true,
        "id": "pf0N4WlS7xXA",
        "outputId": "0d4a4969-550f-4345-e2c6-3c99c813edc0",
        "colab": {
          "base_uri": "https://localhost:8080/",
          "height": 206
        }
      },
      "execution_count": 64,
      "outputs": [
        {
          "output_type": "execute_result",
          "data": {
            "text/plain": [
              "                                              lyrics\n",
              "0  We outlawed, then I bogart, any pros that got ...\n",
              "1  Uh-uh, fuck that\\nEight doobies to the face, f...\n",
              "2  Life is a traffic jam, life is a traffic jam\\n...\n",
              "3  She look better than Beyoncé, Alicia Keys, Hal...\n",
              "4  All day hoe, my neck look sweeter than parfait..."
            ],
            "text/html": [
              "\n",
              "  <div id=\"df-277f1e2c-78f8-4f72-bc72-d6db126d3869\" class=\"colab-df-container\">\n",
              "    <div>\n",
              "<style scoped>\n",
              "    .dataframe tbody tr th:only-of-type {\n",
              "        vertical-align: middle;\n",
              "    }\n",
              "\n",
              "    .dataframe tbody tr th {\n",
              "        vertical-align: top;\n",
              "    }\n",
              "\n",
              "    .dataframe thead th {\n",
              "        text-align: right;\n",
              "    }\n",
              "</style>\n",
              "<table border=\"1\" class=\"dataframe\">\n",
              "  <thead>\n",
              "    <tr style=\"text-align: right;\">\n",
              "      <th></th>\n",
              "      <th>lyrics</th>\n",
              "    </tr>\n",
              "  </thead>\n",
              "  <tbody>\n",
              "    <tr>\n",
              "      <th>0</th>\n",
              "      <td>We outlawed, then I bogart, any pros that got ...</td>\n",
              "    </tr>\n",
              "    <tr>\n",
              "      <th>1</th>\n",
              "      <td>Uh-uh, fuck that\\nEight doobies to the face, f...</td>\n",
              "    </tr>\n",
              "    <tr>\n",
              "      <th>2</th>\n",
              "      <td>Life is a traffic jam, life is a traffic jam\\n...</td>\n",
              "    </tr>\n",
              "    <tr>\n",
              "      <th>3</th>\n",
              "      <td>She look better than Beyoncé, Alicia Keys, Hal...</td>\n",
              "    </tr>\n",
              "    <tr>\n",
              "      <th>4</th>\n",
              "      <td>All day hoe, my neck look sweeter than parfait...</td>\n",
              "    </tr>\n",
              "  </tbody>\n",
              "</table>\n",
              "</div>\n",
              "    <div class=\"colab-df-buttons\">\n",
              "\n",
              "  <div class=\"colab-df-container\">\n",
              "    <button class=\"colab-df-convert\" onclick=\"convertToInteractive('df-277f1e2c-78f8-4f72-bc72-d6db126d3869')\"\n",
              "            title=\"Convert this dataframe to an interactive table.\"\n",
              "            style=\"display:none;\">\n",
              "\n",
              "  <svg xmlns=\"http://www.w3.org/2000/svg\" height=\"24px\" viewBox=\"0 -960 960 960\">\n",
              "    <path d=\"M120-120v-720h720v720H120Zm60-500h600v-160H180v160Zm220 220h160v-160H400v160Zm0 220h160v-160H400v160ZM180-400h160v-160H180v160Zm440 0h160v-160H620v160ZM180-180h160v-160H180v160Zm440 0h160v-160H620v160Z\"/>\n",
              "  </svg>\n",
              "    </button>\n",
              "\n",
              "  <style>\n",
              "    .colab-df-container {\n",
              "      display:flex;\n",
              "      gap: 12px;\n",
              "    }\n",
              "\n",
              "    .colab-df-convert {\n",
              "      background-color: #E8F0FE;\n",
              "      border: none;\n",
              "      border-radius: 50%;\n",
              "      cursor: pointer;\n",
              "      display: none;\n",
              "      fill: #1967D2;\n",
              "      height: 32px;\n",
              "      padding: 0 0 0 0;\n",
              "      width: 32px;\n",
              "    }\n",
              "\n",
              "    .colab-df-convert:hover {\n",
              "      background-color: #E2EBFA;\n",
              "      box-shadow: 0px 1px 2px rgba(60, 64, 67, 0.3), 0px 1px 3px 1px rgba(60, 64, 67, 0.15);\n",
              "      fill: #174EA6;\n",
              "    }\n",
              "\n",
              "    .colab-df-buttons div {\n",
              "      margin-bottom: 4px;\n",
              "    }\n",
              "\n",
              "    [theme=dark] .colab-df-convert {\n",
              "      background-color: #3B4455;\n",
              "      fill: #D2E3FC;\n",
              "    }\n",
              "\n",
              "    [theme=dark] .colab-df-convert:hover {\n",
              "      background-color: #434B5C;\n",
              "      box-shadow: 0px 1px 3px 1px rgba(0, 0, 0, 0.15);\n",
              "      filter: drop-shadow(0px 1px 2px rgba(0, 0, 0, 0.3));\n",
              "      fill: #FFFFFF;\n",
              "    }\n",
              "  </style>\n",
              "\n",
              "    <script>\n",
              "      const buttonEl =\n",
              "        document.querySelector('#df-277f1e2c-78f8-4f72-bc72-d6db126d3869 button.colab-df-convert');\n",
              "      buttonEl.style.display =\n",
              "        google.colab.kernel.accessAllowed ? 'block' : 'none';\n",
              "\n",
              "      async function convertToInteractive(key) {\n",
              "        const element = document.querySelector('#df-277f1e2c-78f8-4f72-bc72-d6db126d3869');\n",
              "        const dataTable =\n",
              "          await google.colab.kernel.invokeFunction('convertToInteractive',\n",
              "                                                    [key], {});\n",
              "        if (!dataTable) return;\n",
              "\n",
              "        const docLinkHtml = 'Like what you see? Visit the ' +\n",
              "          '<a target=\"_blank\" href=https://colab.research.google.com/notebooks/data_table.ipynb>data table notebook</a>'\n",
              "          + ' to learn more about interactive tables.';\n",
              "        element.innerHTML = '';\n",
              "        dataTable['output_type'] = 'display_data';\n",
              "        await google.colab.output.renderOutput(dataTable, element);\n",
              "        const docLink = document.createElement('div');\n",
              "        docLink.innerHTML = docLinkHtml;\n",
              "        element.appendChild(docLink);\n",
              "      }\n",
              "    </script>\n",
              "  </div>\n",
              "\n",
              "\n",
              "<div id=\"df-9a2cf532-94ba-447b-ba53-e18f69bea344\">\n",
              "  <button class=\"colab-df-quickchart\" onclick=\"quickchart('df-9a2cf532-94ba-447b-ba53-e18f69bea344')\"\n",
              "            title=\"Suggest charts\"\n",
              "            style=\"display:none;\">\n",
              "\n",
              "<svg xmlns=\"http://www.w3.org/2000/svg\" height=\"24px\"viewBox=\"0 0 24 24\"\n",
              "     width=\"24px\">\n",
              "    <g>\n",
              "        <path d=\"M19 3H5c-1.1 0-2 .9-2 2v14c0 1.1.9 2 2 2h14c1.1 0 2-.9 2-2V5c0-1.1-.9-2-2-2zM9 17H7v-7h2v7zm4 0h-2V7h2v10zm4 0h-2v-4h2v4z\"/>\n",
              "    </g>\n",
              "</svg>\n",
              "  </button>\n",
              "\n",
              "<style>\n",
              "  .colab-df-quickchart {\n",
              "      --bg-color: #E8F0FE;\n",
              "      --fill-color: #1967D2;\n",
              "      --hover-bg-color: #E2EBFA;\n",
              "      --hover-fill-color: #174EA6;\n",
              "      --disabled-fill-color: #AAA;\n",
              "      --disabled-bg-color: #DDD;\n",
              "  }\n",
              "\n",
              "  [theme=dark] .colab-df-quickchart {\n",
              "      --bg-color: #3B4455;\n",
              "      --fill-color: #D2E3FC;\n",
              "      --hover-bg-color: #434B5C;\n",
              "      --hover-fill-color: #FFFFFF;\n",
              "      --disabled-bg-color: #3B4455;\n",
              "      --disabled-fill-color: #666;\n",
              "  }\n",
              "\n",
              "  .colab-df-quickchart {\n",
              "    background-color: var(--bg-color);\n",
              "    border: none;\n",
              "    border-radius: 50%;\n",
              "    cursor: pointer;\n",
              "    display: none;\n",
              "    fill: var(--fill-color);\n",
              "    height: 32px;\n",
              "    padding: 0;\n",
              "    width: 32px;\n",
              "  }\n",
              "\n",
              "  .colab-df-quickchart:hover {\n",
              "    background-color: var(--hover-bg-color);\n",
              "    box-shadow: 0 1px 2px rgba(60, 64, 67, 0.3), 0 1px 3px 1px rgba(60, 64, 67, 0.15);\n",
              "    fill: var(--button-hover-fill-color);\n",
              "  }\n",
              "\n",
              "  .colab-df-quickchart-complete:disabled,\n",
              "  .colab-df-quickchart-complete:disabled:hover {\n",
              "    background-color: var(--disabled-bg-color);\n",
              "    fill: var(--disabled-fill-color);\n",
              "    box-shadow: none;\n",
              "  }\n",
              "\n",
              "  .colab-df-spinner {\n",
              "    border: 2px solid var(--fill-color);\n",
              "    border-color: transparent;\n",
              "    border-bottom-color: var(--fill-color);\n",
              "    animation:\n",
              "      spin 1s steps(1) infinite;\n",
              "  }\n",
              "\n",
              "  @keyframes spin {\n",
              "    0% {\n",
              "      border-color: transparent;\n",
              "      border-bottom-color: var(--fill-color);\n",
              "      border-left-color: var(--fill-color);\n",
              "    }\n",
              "    20% {\n",
              "      border-color: transparent;\n",
              "      border-left-color: var(--fill-color);\n",
              "      border-top-color: var(--fill-color);\n",
              "    }\n",
              "    30% {\n",
              "      border-color: transparent;\n",
              "      border-left-color: var(--fill-color);\n",
              "      border-top-color: var(--fill-color);\n",
              "      border-right-color: var(--fill-color);\n",
              "    }\n",
              "    40% {\n",
              "      border-color: transparent;\n",
              "      border-right-color: var(--fill-color);\n",
              "      border-top-color: var(--fill-color);\n",
              "    }\n",
              "    60% {\n",
              "      border-color: transparent;\n",
              "      border-right-color: var(--fill-color);\n",
              "    }\n",
              "    80% {\n",
              "      border-color: transparent;\n",
              "      border-right-color: var(--fill-color);\n",
              "      border-bottom-color: var(--fill-color);\n",
              "    }\n",
              "    90% {\n",
              "      border-color: transparent;\n",
              "      border-bottom-color: var(--fill-color);\n",
              "    }\n",
              "  }\n",
              "</style>\n",
              "\n",
              "  <script>\n",
              "    async function quickchart(key) {\n",
              "      const quickchartButtonEl =\n",
              "        document.querySelector('#' + key + ' button');\n",
              "      quickchartButtonEl.disabled = true;  // To prevent multiple clicks.\n",
              "      quickchartButtonEl.classList.add('colab-df-spinner');\n",
              "      try {\n",
              "        const charts = await google.colab.kernel.invokeFunction(\n",
              "            'suggestCharts', [key], {});\n",
              "      } catch (error) {\n",
              "        console.error('Error during call to suggestCharts:', error);\n",
              "      }\n",
              "      quickchartButtonEl.classList.remove('colab-df-spinner');\n",
              "      quickchartButtonEl.classList.add('colab-df-quickchart-complete');\n",
              "    }\n",
              "    (() => {\n",
              "      let quickchartButtonEl =\n",
              "        document.querySelector('#df-9a2cf532-94ba-447b-ba53-e18f69bea344 button');\n",
              "      quickchartButtonEl.style.display =\n",
              "        google.colab.kernel.accessAllowed ? 'block' : 'none';\n",
              "    })();\n",
              "  </script>\n",
              "</div>\n",
              "    </div>\n",
              "  </div>\n"
            ],
            "application/vnd.google.colaboratory.intrinsic+json": {
              "type": "dataframe",
              "variable_name": "kendrick_lyrics",
              "summary": "{\n  \"name\": \"kendrick_lyrics\",\n  \"rows\": 174,\n  \"fields\": [\n    {\n      \"column\": \"lyrics\",\n      \"properties\": {\n        \"dtype\": \"string\",\n        \"num_unique_values\": 174,\n        \"samples\": [\n          \"Pimp-pimp (Hooray)\\nPimp-pimp (Hooray)\\n(Hooray)\\nPimp-pimp (Hooray)\\nPimp-pimp\\nI'm sick and tired of being tired\\nCan't pick a side, the Gemini\\nProphesize if we live or not\\nPromise momma not to fear nobody\\nSeen black turn 'em Burgundy\\nHundred of them, I know I'm greedy\\nStuck inside the belly of the beast\\nCan you please pray for me?\\nGet God on the phone\\nSaid it won't be long\\nI see jigaboos, I see Styrofoams\\nMy hood going brazy\\nWhere did we go wrong?\\nI see jigaboos, I see Styrofoams\\nGet Top on the phone\\nTell the squad come home\\nWe gon' ball again 'fore he call us home\\nWorld is going brazy, where did we go wrong?\\nIt's a tidal wave, it's a thunderdome\\nGet God on the phone\\nI just got a raise (I just got a raise)\\nSpent it all on me (I spent it all on me)\\nDiamonds all appraised (Diamonds all appraised)\\nAnd I'm bossing up (And I'm bossing up)\\nBitch, get out the way (Bitch, get out the way)\\nI'm the only way, we can fornicate\\nAh, pimping and posing, look what I drove in, ah\\nHaving these hoes and I know that I'm chosen, ah\\nI live by the code and me and my bros and, ah\\nMy dollars ain't foldin', you was never the homie\\nSeen black turn 'em Burgundy\\nHundred of them, I know I'm greedy\\nStuck inside the belly of the beast\\nCan you please pray for me?\\nGet God on the phone\\nSaid it won't be long\\nI see jigaboos, I see Styrofoams\\nMy hood going brazy\\nWhere did we go wrong?\\nI see jigaboos, I see Styrofoams\\nGet Top on the phone\\n(What's up, my nigga?)\\nCornrow Kenny, he was born with a vision\\nAll morning with the mixed dashboards, triple digits\\nParallel park like an alien came visit\\nSlideshow for the night show, ten bitches\\nFind hoes with a blindfold, King Kendrick\\n(Hello, Billy)\\nSo many plays, homie, I finesse\\nPalisade views with some sex\\nI lost a lot of love for missionary\\nThis the first time I confess\\nMe and Top is like a Kobe and Phil\\nA father figure fuck with him, you get killed\\nFuck with me and he will kill you himself\\nTDE the mafia of the west\\nMove in silence, yeah, we juggin\\u2019 like that\\nAct of violence, yeah, we juggin\\u2019 like that\\nI did a lot of dumb shit in my past\\nLord forgive me, hoping I don't relapse\\nDave just bought a new 911\\nAlmost thought I\\u2019d seen another plane crash\\nQ just bought a brand new McLaren\\nRock-a-lack about to buy the projects\\nMoosa got his son dripping in gold\\nAli 'bout to let his hair down on hoes\\nMe, I'm 'bout to let my hair down on hoes\\nTop billin', that\\u2019s a million a show\\nMight blow the whole no whammy on Soul\\nMight tell Obama be more like Punch\\nSounwave caught a Grammy last year\\nMack wop, bet he do what he want\\nFuck you niggas, level two, I'm not done\\n2Teez told me that I'm the one\\nI can put a rapper on life support\\nGuarantee that's something none of you want\\nTen homies down and they all serving life\\nWhat is like twenty-five hundred a month?\\nWhat if I empty my bank out and stunt?\\nWhat if I certified all of these ones?\\nBitch, I get buck, I'm as real as they come\\nShit is amazing, I'm feeding my cravings\\nYou know that you want me, come here now, lil' baby\\nI'm fuckin', I'm crazy\\nServing it like I belong in the basement\\nOr live at the Days Inn\\nYan Yan my relative, black cherry soda\\nPistol and poverty, come get to know us\\n(Get Top on the phone)\\nWho doing the drums?\\nMan put that nigga on the drums man\\nYep, all day, \\\"Mortal Man\\\" and \\\"Kunta\\\"\\nAlright, from the top\",\n          \"Sitting in the studio thinking about which mood would go\\nRight now, freestyle or write down, whatever\\nIt still'll come up clever, I just need to free my thoughts\\nAnd Lord knows that I know better, but I ain't perfect\\nI ain't seen too many churches or know them testament verses\\nYou should either hear me now or go deaf\\nOr end up dead, die trying and know death\\nMight end up dead, swallow blood, swallow my breath\\nFuck a funeral, just make sure you pay my music respect, nigga\\nI mean that from the bottom of my heart\\nYou see my art is all I have\\nAnd victory tastes sweet, even when the enemy can throw salt\\nStill knock them out the park like a fucking tow car\\nLet bygones be bygones, but where I'm from\\nWe buy guns and more guns to give to the young\\nI'm living the life of a nigga trapped, nigga\\nInside the system all you envision is trap niggas\\nMy uncle doing life inside prison; he wasn't wrapped too tight\\nHe told me \\\"Rap about life, not rap niggas\\\"\\nThat's why I'm shaking my head when you rap-dissin'\\nMy stomach start turning, my nerves get to twitching\\nI start evaluating, then my final intuition\\nIs that you wishing a come up, would just come up\\nWe used to beefing over turf, fuck beefing over a verse\\nNiggas dying, motherfuck a double entendre\\nAnd this is Comp-ton, lions in the land of the triumph\\nWrap-Saran our defiance, ban our alliance\\nPut burners in the hands of the black man\\nOne hood with 20 four-fours like a cloned Kobe Bryant\\nYou probably heard I wanna be heard and wonder who I am\\nYou probably even listened to \\\"Faith,\\\" and think I know Zion\\nBut really I'm just caught in the loop, of understanding the truth\\nBecause it seem like it's always clashing with science\\nI got a big fear of flying\\nMy future so bright I'd probably go blind before I blink twice\\nI ain't lying\\nI swear to God, half of y'all just don't know Kendrick\\nThe school of hard knocks, we was the first ones in attendance\\nYou walking down the block, he got shot, you are no eye witness\\nYou just mind your business\\nYou just turn your head, kneel down and then tie your tennis\\nIt's kind of scary, ain't it?\\nYou can't act like no bitch, that only got Tyler Perry famous\\nJust let me explain this, why you pick up that stainless?\\n'Cause your pops wasn't anxious to see you and you hate it\\nSo much you probably had your burner tucked at graduation\\nSo if you see him on 'em bleachers then you kill him\\nFacing 25 to life with a murder charge\\nYour enemies was the prey and now you pray to God\\nI pray these bars get farther than Compton\\nAnd if our record never break, I still won\\u2019t break my promise\\nI promise to keep it honest\\nSecret society, all we ask is trust\\nAnd all we lack is communication like service sucks\\nThe people scared of annihilation when Kingdom Come\\nAnd I'm like, \\\"The Kendrick Lamar OD in less than a month, all right?\\\"\\nGotta keep it pushing\\nCan't let the government tell me how my future looking\\nI'm on Rosecrans and Central trying to duck the central bookins'\\nIf the fucking pigs get behind me then you know I'm bookin'\\nNever will I surrender\\nI been a warrior when I came out my mom's placenta\\nIn the gutter lane like I'm Master Splinter\\nHow splendid, I guess my project had did it\\nGot all these niggas approaching they mixtapes different\\nThey said seven tracks, I said 15\\nCalled it an EP, they said I\\u2019m trippin'\\nBut little did they know, I\\u2019m tryna' change the rules\\nThat we\\u2019ve been confined to, so the corporate won\\u2019t make decisions\\nUppity bitches handling business\\nKilling our dreams, stealing our vision\\nOut in Haiti, adolescents barely have a home\\nIn LA everybody think they fucking on\\nHop on Twitter, perpetrate we doing big shit\\nWho we hanging with and bragging about the iPhone\\nI swear to God most of y'all cats just don\\u2019t know Kendrick\\nYou barely know yourself, so I guess most of y'all should be offended\\nAin\\u2019t doing this for my health, I\\u2019m tryna' purchase my momma dem' Benzes\\nOccupying my time with riches, justifying my time ambitions\\nJust to coincide, just to go inside, plus we idolize why we living\\nLook, the mastermind took the master's mind\\nJust the perfect time, just to master mine\\nJust to match the grind with precision\\nLook, the mastermind took - (cough)\",\n          \"I'm sensitive, I feel everything, I feel everybody\\nOne man standin' on two words, heal everybody\\nTransformation, then reciprocation, karma must return\\nHeal myself, secrets that I hide, buried in these words\\nDeath threats, ego must die, but I let it purge\\nPacify, broken pieces of me, it was all a blur\\nMother cried, put they hands on her, it was family ties\\nI heard it all, I should've grabbed a gun, but I was only five\\nI still feel it weighin' on my heart, my first tough decision\\nIn the shadows clingin' to my soul as my only critic\\nWhere's my faith? Told you I was Christian, but just not today\\nI transformed, prayin' to the trees, God is taking shape\\nMy mother's mother followed me for years in her afterlife\\nStarin' at me on back of some buses, I wake up at night\\nLoved her dearly, traded in my tears for a Range Rover\\nTransformation, you ain't felt grief 'til you felt it sober\\nI remember lookin' in the mirror knowin' I was gifted\\nOnly child, me for seven years, everything for Christmas\\nFamily ties, they accused my cousin, \\\"Did he touch you, Kendrick?\\\"\\nNever lied, but no one believed me when I said \\\"He didn't\\\"\\nFrozen moments, still holdin' on it, hard to trust myself\\nI started rhymin', copin' mechanisms to lift up myself\\nTalked to my lawyer, told me not to be so hard on myself\\nHe has an aura, I hope to achieve, if I find some help\\nCongratulations, made it to be famous, still I feel uneasy\\nWater watchin', live my life in nature, only thing relieves me\\nSpirit guide whisper in my ear, tell me that she sees me\\n\\\"Did he touch you?\\\" I said \\\"No\\\" again, still they didn't believe me\\nMother's brother said he got revenge for my mother\\u2019s face\\nBlack and blue, the image of my queen that I can't erase\\n'Til this day can't look her in the eyes, pain is takin' over\\nBlame myself, you never felt guilt 'til you felt it sober\\nI was never high, I was never drunk, never out my mind\\nI need control, they handed me some smoke, but still I declined\\nI did it sober sittin' with myself, I went through all emotions\\nNo dependents, except for one, let me bring you closer\\nIntoxicated, there's a lustful nature that I failed to mention\\nInsecurities that I project, sleepin' with other women\\nWhitney's hurt, the purest soul I know, I found her in the kitchen\\nAskin' God, \\\"Where did I lose myself? And can it be forgiven?\\\"\\nBroke me down, she looked me in my eyes, \\\"Is there an addiction?\\\"\\nI said \\\"No,\\\" but this time I lied, I knew that I can't fix it\\nPure soul, even in her pain, know she cared for me\\nGave me a number, said she recommended some therapy\\nI asked my momma why she didn't believe me when I told her \\\"No\\\"\\nI never knew she was violated in Chicago, I'm sympathetic\\nTold me that she feared it happened to me, for my protection\\nThough it never happened, she wouldn't agree\\nNow I'm affected, twenty years later trauma has resurfaced\\nAmplified as I write this song, I shiver 'cause I'm nervous\\nI was five, questioning myself, 'lone for many years\\nNothing's wrong, just results on how them questions made me feel\\nI made it home, seven years of tour, chasin' manhood\\nBut Whitney's gone, by time you hear this song, she did all she could\\nAll those women gave me superpowers, what I thought I lacked\\nI pray our children don't inherit me and feelings I attract\\nA conversation not bein' addressed in Black families\\nThe devastation, hauntin' generations and humanity\\nThey raped our mothers, then they raped our sisters\\nThen they made us watch, then made us rape each other\\nPsychotic torture between our lives, we ain't recovered\\nStill livin' as victims in the public eyes who pledge allegiance\\nEvery other brother has been compromised\\nI know the secrets, every other rapper sexually abused\\nI see 'em daily buryin' they pain in chains and tattoos\\nSo listen close before you start to pass judgment on how he move\\nLearn how he cope, whenever his uncle had to walk him from school\\nHis anger grows deep in misogyny\\nThis is post-traumatic Black families and a sodomy, today is still active\\nSo I set free myself from all the guilt that I thought I made\\nSo I set free my mother all the hurt that she titled shame\\nSo I set free my cousin, chaotic for my mother's pain\\nI hope Hykeem made you proud 'cause you ain't die in vain\\nSo I set free the power of Whitney, may she heal us all\\nSo I set free our children, may good karma keep them with God\\nSo I set free the hearts filled with hatred, keep our bodies sacred\\nAs I set free all you abusers, this is transformation\"\n        ],\n        \"semantic_type\": \"\",\n        \"description\": \"\"\n      }\n    }\n  ]\n}"
            }
          },
          "metadata": {},
          "execution_count": 64
        }
      ]
    },
    {
      "cell_type": "code",
      "source": [
        "X__test = pd.DataFrame(data = kendrick_lyrics)\n",
        "X_test = X__test['lyrics']"
      ],
      "metadata": {
        "id": "7TUDWd_ijWcX"
      },
      "execution_count": 65,
      "outputs": []
    },
    {
      "cell_type": "code",
      "execution_count": 67,
      "metadata": {
        "id": "h1tMtBl8dxlS",
        "outputId": "9f5d2d1c-5eae-4c09-ea1c-431ed75ff41c",
        "colab": {
          "base_uri": "https://localhost:8080/"
        }
      },
      "outputs": [
        {
          "output_type": "execute_result",
          "data": {
            "text/plain": [
              "array([[0, 0, 0, ..., 0, 0, 1],\n",
              "       [0, 0, 0, ..., 0, 0, 1],\n",
              "       [0, 0, 0, ..., 0, 0, 0],\n",
              "       ...,\n",
              "       [0, 0, 0, ..., 0, 0, 1],\n",
              "       [0, 0, 0, ..., 0, 0, 0],\n",
              "       [0, 0, 0, ..., 0, 0, 1]])"
            ]
          },
          "metadata": {},
          "execution_count": 67
        }
      ],
      "source": [
        "pipeline.fit(X_train, y_train)\n",
        "y_pred = pipeline.predict(X_test)\n",
        "y_pred\n",
        "# print('F1-SCORE :',f1_score(y_test, y_pred, average=\"micro\"))"
      ]
    },
    {
      "cell_type": "code",
      "execution_count": 68,
      "metadata": {
        "id": "FQnvgEzbdxlT",
        "outputId": "27be2ea8-d6ac-4157-814c-c76ecb3738dd",
        "colab": {
          "base_uri": "https://localhost:8080/"
        }
      },
      "outputs": [
        {
          "output_type": "execute_result",
          "data": {
            "text/plain": [
              "[('tension',),\n",
              " ('power', 'sadness', 'tension'),\n",
              " ('sadness',),\n",
              " ('sadness', 'tenderness'),\n",
              " ('power', 'tension'),\n",
              " ('tension',),\n",
              " ('power', 'tension'),\n",
              " ('power',),\n",
              " ('power', 'tension'),\n",
              " ('nostalgia', 'sadness', 'tension'),\n",
              " ('tension',),\n",
              " ('power', 'tension'),\n",
              " ('power', 'sadness'),\n",
              " ('power', 'tension'),\n",
              " ('sadness',),\n",
              " ('power', 'tension'),\n",
              " ('power', 'tension'),\n",
              " ('power', 'tension'),\n",
              " ('power', 'tension'),\n",
              " ('power', 'tension'),\n",
              " ('power', 'tension'),\n",
              " ('sadness', 'tension'),\n",
              " ('power', 'tension'),\n",
              " ('power', 'tension'),\n",
              " ('power', 'tension'),\n",
              " ('power', 'tension'),\n",
              " (),\n",
              " ('power', 'sadness', 'tension'),\n",
              " ('tension',),\n",
              " ('power', 'sadness', 'tension'),\n",
              " (),\n",
              " ('power', 'tension'),\n",
              " ('power', 'tension'),\n",
              " ('power', 'sadness', 'tension'),\n",
              " (),\n",
              " ('power', 'tension'),\n",
              " ('power', 'tension'),\n",
              " ('power', 'tension'),\n",
              " ('power', 'tension'),\n",
              " ('nostalgia', 'sadness', 'tension'),\n",
              " ('power', 'tension'),\n",
              " (),\n",
              " ('power', 'tension'),\n",
              " ('nostalgia', 'power', 'sadness', 'tension'),\n",
              " ('power', 'tension'),\n",
              " ('power', 'tension'),\n",
              " ('power', 'tension'),\n",
              " ('power', 'tension'),\n",
              " ('power', 'sadness', 'tension'),\n",
              " ('power', 'tension'),\n",
              " ('sadness',),\n",
              " (),\n",
              " (),\n",
              " ('sadness', 'tension'),\n",
              " ('power', 'solemnity', 'tension'),\n",
              " ('power', 'tension'),\n",
              " ('power', 'tension'),\n",
              " ('tenderness',),\n",
              " ('sadness', 'tenderness'),\n",
              " ('power', 'tension'),\n",
              " ('power', 'sadness', 'tension'),\n",
              " ('power', 'tension'),\n",
              " ('tension',),\n",
              " ('power', 'sadness', 'tension'),\n",
              " ('power', 'tension'),\n",
              " ('power',),\n",
              " ('sadness', 'tension'),\n",
              " ('power', 'tension'),\n",
              " ('power', 'tension'),\n",
              " ('power', 'tension'),\n",
              " ('sadness', 'tension'),\n",
              " ('power', 'tension'),\n",
              " ('power', 'sadness', 'tension'),\n",
              " ('power', 'tension'),\n",
              " ('power', 'tension'),\n",
              " ('power', 'tension'),\n",
              " ('power', 'tension'),\n",
              " ('power', 'tension'),\n",
              " ('power', 'sadness', 'tension'),\n",
              " ('power', 'sadness', 'tension'),\n",
              " ('power', 'tension'),\n",
              " ('sadness', 'tension'),\n",
              " ('power', 'tension'),\n",
              " ('power', 'tension'),\n",
              " ('power', 'tension'),\n",
              " ('power', 'tension'),\n",
              " ('power', 'tension'),\n",
              " ('power', 'tension'),\n",
              " ('tenderness',),\n",
              " ('power', 'sadness', 'tenderness', 'tension'),\n",
              " ('power', 'tension'),\n",
              " ('power', 'sadness', 'tension'),\n",
              " ('power', 'tension'),\n",
              " ('power', 'tension'),\n",
              " ('power',),\n",
              " ('power', 'tension'),\n",
              " ('nostalgia', 'sadness', 'tension'),\n",
              " ('power', 'sadness', 'tension'),\n",
              " ('power', 'tension'),\n",
              " ('power', 'tension'),\n",
              " ('sadness', 'tension'),\n",
              " ('nostalgia', 'sadness', 'solemnity', 'tension'),\n",
              " ('sadness', 'tension'),\n",
              " ('power', 'tension'),\n",
              " ('power', 'sadness', 'tension'),\n",
              " ('power', 'tension'),\n",
              " ('power', 'tension'),\n",
              " (),\n",
              " ('power', 'tension'),\n",
              " ('power', 'tension'),\n",
              " ('power', 'tension'),\n",
              " ('sadness',),\n",
              " ('tenderness',),\n",
              " ('power',),\n",
              " ('power',),\n",
              " ('power', 'sadness', 'tension'),\n",
              " ('power', 'tension'),\n",
              " ('power', 'sadness', 'solemnity', 'tension'),\n",
              " ('power', 'sadness', 'tension'),\n",
              " ('sadness',),\n",
              " (),\n",
              " ('power', 'tension'),\n",
              " ('power', 'sadness'),\n",
              " ('power', 'tension'),\n",
              " ('tenderness', 'tension'),\n",
              " ('power', 'sadness', 'tension'),\n",
              " ('power', 'tension'),\n",
              " ('power', 'sadness', 'tension'),\n",
              " ('power', 'tension'),\n",
              " ('power', 'tension'),\n",
              " ('tenderness',),\n",
              " ('power', 'tension'),\n",
              " ('power', 'sadness', 'tension'),\n",
              " ('power',),\n",
              " ('sadness', 'tension'),\n",
              " ('power', 'tension'),\n",
              " ('power', 'tension'),\n",
              " ('power', 'tension'),\n",
              " ('power', 'sadness', 'tension'),\n",
              " ('power', 'tension'),\n",
              " ('power', 'tension'),\n",
              " ('power', 'tension'),\n",
              " ('power', 'tension'),\n",
              " ('power', 'sadness', 'tension'),\n",
              " ('power', 'sadness', 'tension'),\n",
              " ('power', 'tension'),\n",
              " ('power', 'tenderness'),\n",
              " ('power', 'tension'),\n",
              " ('power',),\n",
              " ('power', 'tension'),\n",
              " ('sadness', 'tension'),\n",
              " ('power', 'tension'),\n",
              " ('power', 'tension'),\n",
              " ('sadness', 'tension'),\n",
              " ('sadness', 'tension'),\n",
              " ('power', 'tension'),\n",
              " ('power', 'sadness', 'tension'),\n",
              " ('sadness', 'tension'),\n",
              " ('sadness', 'tension'),\n",
              " ('power', 'tension'),\n",
              " ('power', 'sadness', 'tension'),\n",
              " (),\n",
              " ('power', 'tension'),\n",
              " ('power', 'sadness', 'tension'),\n",
              " ('power', 'tension'),\n",
              " ('power', 'tension'),\n",
              " ('power', 'tension'),\n",
              " ('power', 'tension'),\n",
              " ('power', 'tension'),\n",
              " (),\n",
              " ('power', 'sadness', 'tension'),\n",
              " ('power', 'tension'),\n",
              " ('power',),\n",
              " ('power', 'tension')]"
            ]
          },
          "metadata": {},
          "execution_count": 68
        }
      ],
      "source": [
        "result_label = mlb.inverse_transform(y_pred)\n",
        "result_label\n",
        "\n",
        "# Amazement\n",
        "# Calmness\n",
        "# Joyful activation\n",
        "# Nostalgia\n",
        "# Power\n",
        "# Sadness\n",
        "# Solemnity\n",
        "# Tenderness\n",
        "# Tension"
      ]
    }
  ],
  "metadata": {
    "kernelspec": {
      "display_name": "Python 3",
      "language": "python",
      "name": "python3"
    },
    "language_info": {
      "codemirror_mode": {
        "name": "ipython",
        "version": 3
      },
      "file_extension": ".py",
      "mimetype": "text/x-python",
      "name": "python",
      "nbconvert_exporter": "python",
      "pygments_lexer": "ipython3",
      "version": "3.7.4"
    },
    "colab": {
      "provenance": []
    }
  },
  "nbformat": 4,
  "nbformat_minor": 0
}
