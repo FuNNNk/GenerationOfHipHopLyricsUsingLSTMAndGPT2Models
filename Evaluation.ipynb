{
 "cells": [
  {
   "cell_type": "code",
   "execution_count": 19,
   "id": "cb947063-04ba-4623-980d-b8cc1a31173c",
   "metadata": {},
   "outputs": [
    {
     "name": "stdout",
     "output_type": "stream",
     "text": [
      "Average BLEU score over 40 references: 0.0015, 0.0014\n"
     ]
    }
   ],
   "source": [
    "from nltk.translate.bleu_score import sentence_bleu, SmoothingFunction\n",
    "from nltk.tokenize import word_tokenize\n",
    "import json\n",
    "\n",
    "with open(\"../Disertatie/Dataset/Lyrics_ExtractTopics_12.06.json\", \"r\", encoding=\"utf-8\") as f:\n",
    "    data = json.load(f)\n",
    "\n",
    "reference_list = [word_tokenize(song[\"lyrics\"]) for song in data[:40]]\n",
    "\n",
    "hypothesis_gpt2 = word_tokenize(\"Cause that's my life now (Yeah) Life is tough though you've been living it since birthdays for years! No? Haha ( ’Mm.A., bitch!) Yes man-Man I'm fuckin' nasty! You can smell it (Huh?) K.Dot (Kendrick Lamar) What the fuck do ya think 'bout a nigga got there but some big fat ass gang members (Uh huh Uh huh  What if y”all just livin'? Heesh yeah and let me show them somethin', baby boy, you know the truth right here (Yah), I know (You ain't talkin') shit (Haha) Uh huh what the fiends who hate us donn't love us no more (Uh huh what they bout with yo niggas) So I'll let him rap I'll let his mother eat like John Madden (Oh yeah) What else do he have? Baby step on em daddy line by toe ('Treat em right) Uh huh (Woo hoo ho) Alright I got one (Yep) And when we finally come around, she gotta get\")\n",
    "hypothesis_lstm = word_tokenize(\"it’s been so far away from me since I grew up and this is no new reality for you young men of the world (Yeah I'ma gettin' some relief) So what are y'all doin'? Tell 'em I wanna stay with my family now baby girl (Uh huh), tell them I'm goin' straight for ya lil bitch that got a son in her bed right now momma keep an eye Wow (Woah) Now fuck yo nigga, tryna figure it out (Ah! Baby boy!) But still, they love me now I That's just how I feel right here (Woah-woah) Yeah (Baby, man) Yeah (Baby homie) Yeah yeah ( And even though she be livin', baby boom) Alright (Wooh oh) Alright (Ooh wooh – yeah) Yeah [–] You know what? They love me now (Hey) You know what we do want again (Woah-woow) So what are us dy Now let us talk about your mother life at least once every two weeks (Woah-woosh) Mm hmm (Yeah) Man,\")\n",
    "\n",
    "smoothing = SmoothingFunction().method1\n",
    "\n",
    "bleu_scores_gpt2 = [\n",
    "    sentence_bleu(ref, hypothesis_gpt2, smoothing_function=smoothing)\n",
    "    for ref in reference_list\n",
    "]\n",
    "\n",
    "bleu_scores_lstm = [\n",
    "    sentence_bleu(ref, hypothesis_lstm, smoothing_function=smoothing)\n",
    "    for ref in reference_list\n",
    "]\n",
    "\n",
    "\n",
    "average_bleu_gpt2 = sum(bleu_scores_gpt2) / len(bleu_scores_gpt2)\n",
    "average_bleu_lstm = sum(bleu_scores_lstm) / len(bleu_scores_lstm)\n",
    "print(f\"Average BLEU score over 40 references: {average_bleu_gpt2:.4f}, {average_bleu_lstm:.4f}\")"
   ]
  },
  {
   "cell_type": "code",
   "execution_count": 20,
   "id": "2415afc7-f762-477f-8f3a-bfa6496f20d8",
   "metadata": {},
   "outputs": [
    {
     "name": "stdout",
     "output_type": "stream",
     "text": [
      "Collecting rouge_score\n",
      "  Downloading rouge_score-0.1.2.tar.gz (17 kB)\n",
      "  Preparing metadata (setup.py): started\n",
      "  Preparing metadata (setup.py): finished with status 'done'\n",
      "Collecting absl-py (from rouge_score)\n",
      "  Using cached absl_py-2.3.0-py3-none-any.whl.metadata (2.4 kB)\n",
      "Requirement already satisfied: nltk in c:\\users\\alex\\.conda\\envs\\disertatie-primary\\lib\\site-packages (from rouge_score) (3.9.1)\n",
      "Requirement already satisfied: numpy in c:\\users\\alex\\.conda\\envs\\disertatie-primary\\lib\\site-packages (from rouge_score) (1.26.4)\n",
      "Requirement already satisfied: six>=1.14.0 in c:\\users\\alex\\.conda\\envs\\disertatie-primary\\lib\\site-packages (from rouge_score) (1.17.0)\n",
      "Requirement already satisfied: click in c:\\users\\alex\\.conda\\envs\\disertatie-primary\\lib\\site-packages (from nltk->rouge_score) (8.2.1)\n",
      "Requirement already satisfied: joblib in c:\\users\\alex\\.conda\\envs\\disertatie-primary\\lib\\site-packages (from nltk->rouge_score) (1.5.1)\n",
      "Requirement already satisfied: regex>=2021.8.3 in c:\\users\\alex\\.conda\\envs\\disertatie-primary\\lib\\site-packages (from nltk->rouge_score) (2024.11.6)\n",
      "Requirement already satisfied: tqdm in c:\\users\\alex\\.conda\\envs\\disertatie-primary\\lib\\site-packages (from nltk->rouge_score) (4.67.1)\n",
      "Requirement already satisfied: colorama in c:\\users\\alex\\.conda\\envs\\disertatie-primary\\lib\\site-packages (from click->nltk->rouge_score) (0.4.6)\n",
      "Using cached absl_py-2.3.0-py3-none-any.whl (135 kB)\n",
      "Building wheels for collected packages: rouge_score\n",
      "  Building wheel for rouge_score (setup.py): started\n",
      "  Building wheel for rouge_score (setup.py): finished with status 'done'\n",
      "  Created wheel for rouge_score: filename=rouge_score-0.1.2-py3-none-any.whl size=25027 sha256=9a3f3ca7f59f0809df0c39d17103412eb3fa6b2ab3d6a04cadc264c5fc3299a3\n",
      "  Stored in directory: c:\\users\\alex\\appdata\\local\\pip\\cache\\wheels\\85\\9d\\af\\01feefbe7d55ef5468796f0c68225b6788e85d9d0a281e7a70\n",
      "Successfully built rouge_score\n",
      "Installing collected packages: absl-py, rouge_score\n",
      "\n",
      "   ---------------------------------------- 0/2 [absl-py]\n",
      "   ---------------------------------------- 2/2 [rouge_score]\n",
      "\n",
      "Successfully installed absl-py-2.3.0 rouge_score-0.1.2\n"
     ]
    },
    {
     "name": "stderr",
     "output_type": "stream",
     "text": [
      "  DEPRECATION: Building 'rouge_score' using the legacy setup.py bdist_wheel mechanism, which will be removed in a future version. pip 25.3 will enforce this behaviour change. A possible replacement is to use the standardized build interface by setting the `--use-pep517` option, (possibly combined with `--no-build-isolation`), or adding a `pyproject.toml` file to the source tree of 'rouge_score'. Discussion can be found at https://github.com/pypa/pip/issues/6334\n"
     ]
    }
   ],
   "source": [
    "!pip install rouge_score"
   ]
  },
  {
   "cell_type": "code",
   "execution_count": null,
   "id": "0dd99d31-2ebb-4340-b3e0-61d5f4bf50a4",
   "metadata": {},
   "outputs": [
    {
     "name": "stdout",
     "output_type": "stream",
     "text": [
      "GPT-2 ROUGE: {'rouge1': Score(precision=0.9642857142857143, recall=0.005266579973992198, fmeasure=0.010475944128297983), 'rouge2': Score(precision=0.38323353293413176, recall=0.002080691830033486, fmeasure=0.004138912242126366), 'rougeL': Score(precision=0.6785714285714286, recall=0.003706111833550065, fmeasure=0.007371960682876357)}\n",
      "LSTM ROUGE: {'rouge1': Score(precision=0.9644970414201184, recall=0.005299089726918075, fmeasure=0.010540269649843188), 'rouge2': Score(precision=0.44642857142857145, recall=0.0024383107383204915, fmeasure=0.004850130953535745), 'rougeL': Score(precision=0.6923076923076923, recall=0.0038036410923276984, fmeasure=0.00756571502473407)}\n"
     ]
    }
   ],
   "source": [
    "from rouge_score import rouge_scorer\n",
    "import json\n",
    "\n",
    "with open(\"../Disertatie/Dataset/Lyrics_ExtractTopics_12.06.json\", \"r\", encoding=\"utf-8\") as f:\n",
    "    data = json.load(f)\n",
    "\n",
    "reference_text = \"\\n\".join(song[\"lyrics\"] for song in data[:40])\n",
    "\n",
    "hypothesis_gpt2 = \"Cause that's my life now (Yeah) Life is tough though you've been living it since birthdays for years! No? Haha ( ’Mm.A., bitch!) Yes man-Man I'm fuckin' nasty! You can smell it (Huh?) K.Dot (Kendrick Lamar) What the fuck do ya think 'bout a nigga got there but some big fat ass gang members (Uh huh Uh huh  What if y”all just livin'? Heesh yeah and let me show them somethin', baby boy, you know the truth right here (Yah), I know (You ain't talkin') shit (Haha) Uh huh what the fiends who hate us donn't love us no more (Uh huh what they bout with yo niggas) So I'll let him rap I'll let his mother eat like John Madden (Oh yeah) What else do he have? Baby step on em daddy line by toe ('Treat em right) Uh huh (Woo hoo ho) Alright I got one (Yep) And when we finally come around, she gotta get\"\n",
    "hypothesis_lstm = \"it’s been so far away from me since I grew up and this is no new reality for you young men of the world (Yeah I'ma gettin' some relief) So what are y'all doin'? Tell 'em I wanna stay with my family now baby girl (Uh huh), tell them I'm goin' straight for ya lil bitch that got a son in her bed right now momma keep an eye Wow (Woah) Now fuck yo nigga, tryna figure it out (Ah! Baby boy!) But still, they love me now I That's just how I feel right here (Woah-woah) Yeah (Baby, man) Yeah (Baby homie) Yeah yeah ( And even though she be livin', baby boom) Alright (Wooh oh) Alright (Ooh wooh – yeah) Yeah [–] You know what? They love me now (Hey) You know what we do want again (Woah-woow) So what are us dy Now let us talk about your mother life at least once every two weeks (Woah-woosh) Mm hmm (Yeah) Man,\"\n",
    "\n",
    "scorer = rouge_scorer.RougeScorer(['rouge1', 'rouge2', 'rougeL'], use_stemmer=True)\n",
    "\n",
    "scores_gpt2 = scorer.score(reference_text, hypothesis_gpt2)\n",
    "scores_lstm = scorer.score(reference_text, hypothesis_lstm)\n",
    "\n",
    "print(\"GPT-2 ROUGE:\", scores_gpt2)\n",
    "print(\"LSTM ROUGE:\", scores_lstm)"
   ]
  }
 ],
 "metadata": {
  "kernelspec": {
   "display_name": "Python [conda env:.conda-disertatie-primary]",
   "language": "python",
   "name": "conda-env-.conda-disertatie-primary-py"
  },
  "language_info": {
   "codemirror_mode": {
    "name": "ipython",
    "version": 3
   },
   "file_extension": ".py",
   "mimetype": "text/x-python",
   "name": "python",
   "nbconvert_exporter": "python",
   "pygments_lexer": "ipython3",
   "version": "3.12.9"
  }
 },
 "nbformat": 4,
 "nbformat_minor": 5
}
